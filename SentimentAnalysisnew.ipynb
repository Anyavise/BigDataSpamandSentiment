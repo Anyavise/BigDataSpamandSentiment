{
 "cells": [
  {
   "cell_type": "code",
   "execution_count": 2,
   "metadata": {
    "collapsed": true
   },
   "outputs": [],
   "source": [
    "import gensim, logging"
   ]
  },
  {
   "cell_type": "code",
   "execution_count": 4,
   "metadata": {
    "collapsed": true
   },
   "outputs": [],
   "source": [
    "logging.basicConfig(format='%(asctime)s : %(levelname)s : %(message)s', level=logging.INFO)"
   ]
  },
  {
   "cell_type": "code",
   "execution_count": 5,
   "metadata": {},
   "outputs": [
    {
     "name": "stderr",
     "output_type": "stream",
     "text": [
      "2023-03-21 22:51:07,384 : INFO : loading projection weights from GoogleNews-vectors-negative300.bin\n"
     ]
    },
    {
     "ename": "FileNotFoundError",
     "evalue": "[Errno 2] No such file or directory: 'GoogleNews-vectors-negative300.bin'",
     "output_type": "error",
     "traceback": [
      "\u001b[1;31m---------------------------------------------------------------------------\u001b[0m",
      "\u001b[1;31mFileNotFoundError\u001b[0m                         Traceback (most recent call last)",
      "\u001b[1;32m<ipython-input-5-265a969a5257>\u001b[0m in \u001b[0;36m<module>\u001b[1;34m\u001b[0m\n\u001b[1;32m----> 1\u001b[1;33m \u001b[0mgmodel\u001b[0m \u001b[1;33m=\u001b[0m \u001b[0mgensim\u001b[0m\u001b[1;33m.\u001b[0m\u001b[0mmodels\u001b[0m\u001b[1;33m.\u001b[0m\u001b[0mKeyedVectors\u001b[0m\u001b[1;33m.\u001b[0m\u001b[0mload_word2vec_format\u001b[0m\u001b[1;33m(\u001b[0m\u001b[1;34m'GoogleNews-vectors-negative300.bin'\u001b[0m\u001b[1;33m,\u001b[0m \u001b[0mbinary\u001b[0m\u001b[1;33m=\u001b[0m\u001b[1;32mTrue\u001b[0m\u001b[1;33m)\u001b[0m\u001b[1;33m\u001b[0m\u001b[1;33m\u001b[0m\u001b[0m\n\u001b[0m",
      "\u001b[1;32mc:\\Python39\\lib\\site-packages\\gensim\\models\\keyedvectors.py\u001b[0m in \u001b[0;36mload_word2vec_format\u001b[1;34m(cls, fname, fvocab, binary, encoding, unicode_errors, limit, datatype, no_header)\u001b[0m\n\u001b[0;32m   1717\u001b[0m \u001b[1;33m\u001b[0m\u001b[0m\n\u001b[0;32m   1718\u001b[0m         \"\"\"\n\u001b[1;32m-> 1719\u001b[1;33m         return _load_word2vec_format(\n\u001b[0m\u001b[0;32m   1720\u001b[0m             \u001b[0mcls\u001b[0m\u001b[1;33m,\u001b[0m \u001b[0mfname\u001b[0m\u001b[1;33m,\u001b[0m \u001b[0mfvocab\u001b[0m\u001b[1;33m=\u001b[0m\u001b[0mfvocab\u001b[0m\u001b[1;33m,\u001b[0m \u001b[0mbinary\u001b[0m\u001b[1;33m=\u001b[0m\u001b[0mbinary\u001b[0m\u001b[1;33m,\u001b[0m \u001b[0mencoding\u001b[0m\u001b[1;33m=\u001b[0m\u001b[0mencoding\u001b[0m\u001b[1;33m,\u001b[0m \u001b[0municode_errors\u001b[0m\u001b[1;33m=\u001b[0m\u001b[0municode_errors\u001b[0m\u001b[1;33m,\u001b[0m\u001b[1;33m\u001b[0m\u001b[1;33m\u001b[0m\u001b[0m\n\u001b[0;32m   1721\u001b[0m             \u001b[0mlimit\u001b[0m\u001b[1;33m=\u001b[0m\u001b[0mlimit\u001b[0m\u001b[1;33m,\u001b[0m \u001b[0mdatatype\u001b[0m\u001b[1;33m=\u001b[0m\u001b[0mdatatype\u001b[0m\u001b[1;33m,\u001b[0m \u001b[0mno_header\u001b[0m\u001b[1;33m=\u001b[0m\u001b[0mno_header\u001b[0m\u001b[1;33m,\u001b[0m\u001b[1;33m\u001b[0m\u001b[1;33m\u001b[0m\u001b[0m\n",
      "\u001b[1;32mc:\\Python39\\lib\\site-packages\\gensim\\models\\keyedvectors.py\u001b[0m in \u001b[0;36m_load_word2vec_format\u001b[1;34m(cls, fname, fvocab, binary, encoding, unicode_errors, limit, datatype, no_header, binary_chunk_size)\u001b[0m\n\u001b[0;32m   2046\u001b[0m \u001b[1;33m\u001b[0m\u001b[0m\n\u001b[0;32m   2047\u001b[0m     \u001b[0mlogger\u001b[0m\u001b[1;33m.\u001b[0m\u001b[0minfo\u001b[0m\u001b[1;33m(\u001b[0m\u001b[1;34m\"loading projection weights from %s\"\u001b[0m\u001b[1;33m,\u001b[0m \u001b[0mfname\u001b[0m\u001b[1;33m)\u001b[0m\u001b[1;33m\u001b[0m\u001b[1;33m\u001b[0m\u001b[0m\n\u001b[1;32m-> 2048\u001b[1;33m     \u001b[1;32mwith\u001b[0m \u001b[0mutils\u001b[0m\u001b[1;33m.\u001b[0m\u001b[0mopen\u001b[0m\u001b[1;33m(\u001b[0m\u001b[0mfname\u001b[0m\u001b[1;33m,\u001b[0m \u001b[1;34m'rb'\u001b[0m\u001b[1;33m)\u001b[0m \u001b[1;32mas\u001b[0m \u001b[0mfin\u001b[0m\u001b[1;33m:\u001b[0m\u001b[1;33m\u001b[0m\u001b[1;33m\u001b[0m\u001b[0m\n\u001b[0m\u001b[0;32m   2049\u001b[0m         \u001b[1;32mif\u001b[0m \u001b[0mno_header\u001b[0m\u001b[1;33m:\u001b[0m\u001b[1;33m\u001b[0m\u001b[1;33m\u001b[0m\u001b[0m\n\u001b[0;32m   2050\u001b[0m             \u001b[1;31m# deduce both vocab_size & vector_size from 1st pass over file\u001b[0m\u001b[1;33m\u001b[0m\u001b[1;33m\u001b[0m\u001b[1;33m\u001b[0m\u001b[0m\n",
      "\u001b[1;32mc:\\Python39\\lib\\site-packages\\smart_open\\smart_open_lib.py\u001b[0m in \u001b[0;36mopen\u001b[1;34m(uri, mode, buffering, encoding, errors, newline, closefd, opener, compression, transport_params)\u001b[0m\n\u001b[0;32m    175\u001b[0m         \u001b[0mtransport_params\u001b[0m \u001b[1;33m=\u001b[0m \u001b[1;33m{\u001b[0m\u001b[1;33m}\u001b[0m\u001b[1;33m\u001b[0m\u001b[1;33m\u001b[0m\u001b[0m\n\u001b[0;32m    176\u001b[0m \u001b[1;33m\u001b[0m\u001b[0m\n\u001b[1;32m--> 177\u001b[1;33m     fobj = _shortcut_open(\n\u001b[0m\u001b[0;32m    178\u001b[0m         \u001b[0muri\u001b[0m\u001b[1;33m,\u001b[0m\u001b[1;33m\u001b[0m\u001b[1;33m\u001b[0m\u001b[0m\n\u001b[0;32m    179\u001b[0m         \u001b[0mmode\u001b[0m\u001b[1;33m,\u001b[0m\u001b[1;33m\u001b[0m\u001b[1;33m\u001b[0m\u001b[0m\n",
      "\u001b[1;32mc:\\Python39\\lib\\site-packages\\smart_open\\smart_open_lib.py\u001b[0m in \u001b[0;36m_shortcut_open\u001b[1;34m(uri, mode, compression, buffering, encoding, errors, newline)\u001b[0m\n\u001b[0;32m    361\u001b[0m         \u001b[0mopen_kwargs\u001b[0m\u001b[1;33m[\u001b[0m\u001b[1;34m'errors'\u001b[0m\u001b[1;33m]\u001b[0m \u001b[1;33m=\u001b[0m \u001b[0merrors\u001b[0m\u001b[1;33m\u001b[0m\u001b[1;33m\u001b[0m\u001b[0m\n\u001b[0;32m    362\u001b[0m \u001b[1;33m\u001b[0m\u001b[0m\n\u001b[1;32m--> 363\u001b[1;33m     \u001b[1;32mreturn\u001b[0m \u001b[0m_builtin_open\u001b[0m\u001b[1;33m(\u001b[0m\u001b[0mlocal_path\u001b[0m\u001b[1;33m,\u001b[0m \u001b[0mmode\u001b[0m\u001b[1;33m,\u001b[0m \u001b[0mbuffering\u001b[0m\u001b[1;33m=\u001b[0m\u001b[0mbuffering\u001b[0m\u001b[1;33m,\u001b[0m \u001b[1;33m**\u001b[0m\u001b[0mopen_kwargs\u001b[0m\u001b[1;33m)\u001b[0m\u001b[1;33m\u001b[0m\u001b[1;33m\u001b[0m\u001b[0m\n\u001b[0m\u001b[0;32m    364\u001b[0m \u001b[1;33m\u001b[0m\u001b[0m\n\u001b[0;32m    365\u001b[0m \u001b[1;33m\u001b[0m\u001b[0m\n",
      "\u001b[1;31mFileNotFoundError\u001b[0m: [Errno 2] No such file or directory: 'GoogleNews-vectors-negative300.bin'"
     ]
    }
   ],
   "source": [
    "gmodel = gensim.models.KeyedVectors.load_word2vec_format('GoogleNews-vectors-negative300.bin', binary=True)"
   ]
  },
  {
   "cell_type": "code",
   "execution_count": 4,
   "metadata": {},
   "outputs": [
    {
     "data": {
      "text/plain": [
       "array([ 0.0123291 ,  0.20410156, -0.28515625,  0.21679688,  0.11816406,\n",
       "        0.08300781,  0.04980469, -0.00952148,  0.22070312, -0.12597656,\n",
       "        0.08056641, -0.5859375 , -0.00445557, -0.296875  , -0.01312256,\n",
       "       -0.08349609,  0.05053711,  0.15136719, -0.44921875, -0.0135498 ,\n",
       "        0.21484375, -0.14746094,  0.22460938, -0.125     , -0.09716797,\n",
       "        0.24902344, -0.2890625 ,  0.36523438,  0.41210938, -0.0859375 ,\n",
       "       -0.07861328, -0.19726562, -0.09082031, -0.14160156, -0.10253906,\n",
       "        0.13085938, -0.00346375,  0.07226562,  0.04418945,  0.34570312,\n",
       "        0.07470703, -0.11230469,  0.06738281,  0.11230469,  0.01977539,\n",
       "       -0.12353516,  0.20996094, -0.07226562, -0.02783203,  0.05541992,\n",
       "       -0.33398438,  0.08544922,  0.34375   ,  0.13964844,  0.04931641,\n",
       "       -0.13476562,  0.16308594, -0.37304688,  0.39648438,  0.10693359,\n",
       "        0.22167969,  0.21289062, -0.08984375,  0.20703125,  0.08935547,\n",
       "       -0.08251953,  0.05957031,  0.10205078, -0.19238281, -0.09082031,\n",
       "        0.4921875 ,  0.03955078, -0.07080078, -0.0019989 , -0.23046875,\n",
       "        0.25585938,  0.08984375, -0.10644531,  0.00105286, -0.05883789,\n",
       "        0.05102539, -0.0291748 ,  0.19335938, -0.14160156, -0.33398438,\n",
       "        0.08154297, -0.27539062,  0.10058594, -0.10449219, -0.12353516,\n",
       "       -0.140625  ,  0.03491211, -0.11767578, -0.1796875 , -0.21484375,\n",
       "       -0.23828125,  0.08447266, -0.07519531, -0.25976562, -0.21289062,\n",
       "       -0.22363281, -0.09716797,  0.11572266,  0.15429688,  0.07373047,\n",
       "       -0.27539062,  0.14257812, -0.0201416 ,  0.10009766, -0.19042969,\n",
       "       -0.09375   ,  0.14160156,  0.17089844,  0.3125    , -0.16699219,\n",
       "       -0.08691406, -0.05004883, -0.24902344, -0.20800781, -0.09423828,\n",
       "       -0.12255859, -0.09472656, -0.390625  , -0.06640625, -0.31640625,\n",
       "        0.10986328, -0.00156403,  0.04345703,  0.15625   , -0.18945312,\n",
       "       -0.03491211,  0.03393555, -0.14453125,  0.01611328, -0.14160156,\n",
       "       -0.02392578,  0.01501465,  0.07568359,  0.10742188,  0.12695312,\n",
       "        0.10693359, -0.01184082, -0.24023438,  0.0291748 ,  0.16210938,\n",
       "        0.19921875, -0.28125   ,  0.16699219, -0.11621094, -0.25585938,\n",
       "        0.38671875, -0.06640625, -0.4609375 , -0.06176758, -0.14453125,\n",
       "       -0.11621094,  0.05688477,  0.03588867, -0.10693359,  0.18847656,\n",
       "       -0.16699219, -0.01794434,  0.10986328, -0.12353516, -0.16308594,\n",
       "       -0.14453125,  0.12890625,  0.11523438,  0.13671875,  0.05688477,\n",
       "       -0.08105469, -0.06152344, -0.06689453,  0.27929688, -0.19628906,\n",
       "        0.07226562,  0.12304688, -0.20996094, -0.22070312,  0.21386719,\n",
       "       -0.1484375 , -0.05932617,  0.05224609,  0.06445312, -0.02636719,\n",
       "        0.13183594,  0.19433594,  0.27148438,  0.18652344,  0.140625  ,\n",
       "        0.06542969, -0.14453125,  0.05029297,  0.08837891,  0.12255859,\n",
       "        0.26757812,  0.0534668 , -0.32226562, -0.20703125,  0.18164062,\n",
       "        0.04418945, -0.22167969, -0.13769531, -0.04174805, -0.00286865,\n",
       "        0.04077148,  0.07275391, -0.08300781,  0.08398438, -0.3359375 ,\n",
       "       -0.40039062,  0.01757812, -0.18652344, -0.0480957 , -0.19140625,\n",
       "        0.10107422,  0.09277344, -0.30664062, -0.19921875, -0.0168457 ,\n",
       "        0.12207031,  0.14648438, -0.12890625, -0.23535156, -0.05371094,\n",
       "       -0.06640625,  0.06884766, -0.03637695,  0.2109375 , -0.06005859,\n",
       "        0.19335938,  0.05151367, -0.05322266,  0.02893066, -0.27539062,\n",
       "        0.08447266,  0.328125  ,  0.01818848,  0.01495361,  0.04711914,\n",
       "        0.37695312, -0.21875   , -0.03393555,  0.01116943,  0.36914062,\n",
       "        0.02160645,  0.03466797,  0.07275391,  0.16015625, -0.16503906,\n",
       "       -0.296875  ,  0.15039062, -0.29101562,  0.13964844,  0.00448608,\n",
       "        0.171875  , -0.21972656,  0.09326172, -0.19042969,  0.01599121,\n",
       "       -0.09228516,  0.15722656, -0.14160156, -0.0534668 ,  0.03613281,\n",
       "        0.23632812, -0.15136719, -0.00689697, -0.27148438, -0.07128906,\n",
       "       -0.16503906,  0.18457031, -0.08398438,  0.18554688,  0.11669922,\n",
       "        0.02758789, -0.04760742,  0.17871094,  0.06542969, -0.03540039,\n",
       "        0.22949219,  0.02697754, -0.09765625,  0.26953125,  0.08349609,\n",
       "       -0.13085938, -0.10107422, -0.00738525,  0.07128906,  0.14941406,\n",
       "       -0.20605469,  0.18066406, -0.15820312,  0.05932617,  0.28710938,\n",
       "       -0.04663086,  0.15136719,  0.4921875 , -0.27539062,  0.05615234], dtype=float32)"
      ]
     },
     "execution_count": 4,
     "metadata": {},
     "output_type": "execute_result"
    }
   ],
   "source": [
    "gmodel['cat']"
   ]
  },
  {
   "cell_type": "code",
   "execution_count": 5,
   "metadata": {},
   "outputs": [
    {
     "data": {
      "text/plain": [
       "array([  5.12695312e-02,  -2.23388672e-02,  -1.72851562e-01,\n",
       "         1.61132812e-01,  -8.44726562e-02,   5.73730469e-02,\n",
       "         5.85937500e-02,  -8.25195312e-02,  -1.53808594e-02,\n",
       "        -6.34765625e-02,   1.79687500e-01,  -4.23828125e-01,\n",
       "        -2.25830078e-02,  -1.66015625e-01,  -2.51464844e-02,\n",
       "         1.07421875e-01,  -1.99218750e-01,   1.59179688e-01,\n",
       "        -1.87500000e-01,  -1.20117188e-01,   1.55273438e-01,\n",
       "        -9.91210938e-02,   1.42578125e-01,  -1.64062500e-01,\n",
       "        -8.93554688e-02,   2.00195312e-01,  -1.49414062e-01,\n",
       "         3.20312500e-01,   3.28125000e-01,   2.44140625e-02,\n",
       "        -9.71679688e-02,  -8.20312500e-02,  -3.63769531e-02,\n",
       "        -8.59375000e-02,  -9.86328125e-02,   7.78198242e-03,\n",
       "        -1.34277344e-02,   5.27343750e-02,   1.48437500e-01,\n",
       "         3.33984375e-01,   1.66015625e-02,  -2.12890625e-01,\n",
       "        -1.50756836e-02,   5.24902344e-02,  -1.07421875e-01,\n",
       "        -8.88671875e-02,   2.49023438e-01,  -7.03125000e-02,\n",
       "        -1.59912109e-02,   7.56835938e-02,  -7.03125000e-02,\n",
       "         1.19140625e-01,   2.29492188e-01,   1.41601562e-02,\n",
       "         1.15234375e-01,   7.50732422e-03,   2.75390625e-01,\n",
       "        -2.44140625e-01,   2.96875000e-01,   3.49121094e-02,\n",
       "         2.42187500e-01,   1.35742188e-01,   1.42578125e-01,\n",
       "         1.75781250e-02,   2.92968750e-02,  -1.21582031e-01,\n",
       "         2.28271484e-02,  -4.76074219e-02,  -1.55273438e-01,\n",
       "         3.14331055e-03,   3.45703125e-01,   1.22558594e-01,\n",
       "        -1.95312500e-01,   8.10546875e-02,  -6.83593750e-02,\n",
       "        -1.47094727e-02,   2.14843750e-01,  -1.21093750e-01,\n",
       "         1.57226562e-01,  -2.07031250e-01,   1.36718750e-01,\n",
       "        -1.29882812e-01,   5.29785156e-02,  -2.71484375e-01,\n",
       "        -2.98828125e-01,  -1.84570312e-01,  -2.29492188e-01,\n",
       "         1.19140625e-01,   1.53198242e-02,  -2.61718750e-01,\n",
       "        -1.23046875e-01,  -1.86767578e-02,  -6.49414062e-02,\n",
       "        -8.15429688e-02,   7.86132812e-02,  -3.53515625e-01,\n",
       "         5.24902344e-02,  -2.45361328e-02,  -5.43212891e-03,\n",
       "        -2.08984375e-01,  -2.10937500e-01,  -1.79687500e-01,\n",
       "         2.42187500e-01,   2.57812500e-01,   1.37695312e-01,\n",
       "        -2.10937500e-01,  -2.17285156e-02,  -1.38671875e-01,\n",
       "         1.84326172e-02,  -1.23901367e-02,  -1.59179688e-01,\n",
       "         1.61132812e-01,   2.08007812e-01,   1.03027344e-01,\n",
       "         9.81445312e-02,  -6.83593750e-02,  -8.72802734e-03,\n",
       "        -2.89062500e-01,  -2.14843750e-01,  -1.14257812e-01,\n",
       "        -2.21679688e-01,   4.12597656e-02,  -3.12500000e-01,\n",
       "        -5.59082031e-02,  -9.76562500e-02,   5.81054688e-02,\n",
       "        -4.05273438e-02,  -1.73828125e-01,   1.64062500e-01,\n",
       "        -2.53906250e-01,  -1.54296875e-01,  -2.31933594e-02,\n",
       "        -2.38281250e-01,   2.07519531e-02,  -2.73437500e-01,\n",
       "         3.90625000e-03,   1.13769531e-01,  -1.73828125e-01,\n",
       "         2.57812500e-01,   2.35351562e-01,   5.22460938e-02,\n",
       "         6.83593750e-02,  -1.75781250e-01,   1.60156250e-01,\n",
       "        -5.98907471e-04,   5.98144531e-02,  -2.11914062e-01,\n",
       "        -5.54199219e-02,  -7.51953125e-02,  -3.06640625e-01,\n",
       "         4.27734375e-01,   5.32226562e-02,  -2.08984375e-01,\n",
       "        -5.71289062e-02,  -2.09960938e-01,   3.29589844e-02,\n",
       "         1.05468750e-01,  -1.50390625e-01,  -9.37500000e-02,\n",
       "         1.16699219e-01,   6.44531250e-02,   2.80761719e-02,\n",
       "         2.41210938e-01,  -1.25976562e-01,  -1.00585938e-01,\n",
       "        -1.22680664e-02,  -3.26156616e-04,   1.58691406e-02,\n",
       "         1.27929688e-01,  -3.32031250e-02,   4.07714844e-02,\n",
       "        -1.31835938e-01,   9.81445312e-02,   1.74804688e-01,\n",
       "        -2.36328125e-01,   5.17578125e-02,   1.83593750e-01,\n",
       "         2.42919922e-02,  -4.31640625e-01,   2.46093750e-01,\n",
       "        -3.03955078e-02,  -2.47802734e-02,  -1.17187500e-01,\n",
       "         1.61132812e-01,  -5.71289062e-02,   1.16577148e-02,\n",
       "         2.81250000e-01,   4.27734375e-01,   4.56542969e-02,\n",
       "         1.01074219e-01,  -3.95507812e-02,   1.77001953e-02,\n",
       "        -8.98437500e-02,   1.35742188e-01,   2.08007812e-01,\n",
       "         1.88476562e-01,  -1.52343750e-01,  -2.37304688e-01,\n",
       "        -1.90429688e-01,   7.12890625e-02,  -2.46093750e-01,\n",
       "        -2.61718750e-01,  -2.34375000e-01,  -1.45507812e-01,\n",
       "        -1.17187500e-02,  -1.50390625e-01,  -1.13281250e-01,\n",
       "         1.82617188e-01,   2.63671875e-01,  -1.37695312e-01,\n",
       "        -4.58984375e-01,  -4.68750000e-02,  -1.26953125e-01,\n",
       "        -4.22363281e-02,  -1.66992188e-01,   1.26953125e-01,\n",
       "         2.59765625e-01,  -2.44140625e-01,  -2.19726562e-01,\n",
       "        -8.69140625e-02,   1.59179688e-01,  -3.78417969e-02,\n",
       "         8.97216797e-03,  -2.77343750e-01,  -1.04980469e-01,\n",
       "        -1.75781250e-01,   2.28515625e-01,  -2.70996094e-02,\n",
       "         2.85156250e-01,  -2.73437500e-01,   1.61132812e-02,\n",
       "         5.90820312e-02,  -2.39257812e-01,   1.77734375e-01,\n",
       "        -1.34765625e-01,   1.38671875e-01,   3.53515625e-01,\n",
       "         1.22070312e-01,   1.43554688e-01,   9.22851562e-02,\n",
       "         2.29492188e-01,  -3.00781250e-01,  -4.88281250e-02,\n",
       "        -1.79687500e-01,   2.96875000e-01,   1.75781250e-01,\n",
       "         4.80957031e-02,  -3.38745117e-03,   7.91015625e-02,\n",
       "        -2.38281250e-01,  -2.31445312e-01,   1.66015625e-01,\n",
       "        -2.13867188e-01,  -7.03125000e-02,  -7.56835938e-02,\n",
       "         1.96289062e-01,  -1.29882812e-01,  -1.05957031e-01,\n",
       "        -3.53515625e-01,  -1.16699219e-01,  -5.10253906e-02,\n",
       "         3.39355469e-02,  -1.43554688e-01,  -3.90625000e-03,\n",
       "         1.73828125e-01,  -9.96093750e-02,  -1.66015625e-01,\n",
       "        -8.54492188e-02,  -3.82812500e-01,   5.90820312e-02,\n",
       "        -6.22558594e-02,   8.83789062e-02,  -8.88671875e-02,\n",
       "         3.28125000e-01,   6.83593750e-02,  -1.91406250e-01,\n",
       "        -8.35418701e-04,   1.04003906e-01,   1.52343750e-01,\n",
       "        -1.53350830e-03,   4.16015625e-01,  -3.32031250e-02,\n",
       "         1.49414062e-01,   2.42187500e-01,  -1.76757812e-01,\n",
       "        -4.93164062e-02,  -1.24511719e-01,   1.25976562e-01,\n",
       "         1.74804688e-01,   2.81250000e-01,  -1.80664062e-01,\n",
       "         1.03027344e-01,  -2.75390625e-01,   2.61718750e-01,\n",
       "         2.46093750e-01,  -4.71191406e-02,   6.25000000e-02,\n",
       "         4.16015625e-01,  -3.55468750e-01,   2.22656250e-01], dtype=float32)"
      ]
     },
     "execution_count": 5,
     "metadata": {},
     "output_type": "execute_result"
    }
   ],
   "source": [
    "gmodel['dog']"
   ]
  },
  {
   "cell_type": "code",
   "execution_count": 6,
   "metadata": {},
   "outputs": [
    {
     "data": {
      "text/plain": [
       "array([-0.19140625, -0.04296875,  0.27539062,  0.00488281, -0.3203125 ,\n",
       "        0.08203125,  0.05566406, -0.03613281, -0.31445312,  0.10693359,\n",
       "       -0.359375  ,  0.29882812,  0.02331543,  0.05517578, -0.140625  ,\n",
       "        0.1953125 , -0.23632812, -0.22167969, -0.06542969, -0.3359375 ,\n",
       "        0.25195312, -0.09326172,  0.54296875,  0.11328125, -0.28710938,\n",
       "       -0.12011719, -0.11181641,  0.20996094, -0.33203125,  0.30273438,\n",
       "       -0.3359375 , -0.12255859,  0.12890625, -0.28515625, -0.04223633,\n",
       "        0.25585938,  0.3203125 ,  0.07177734,  0.19042969, -0.01379395,\n",
       "        0.16992188, -0.22460938,  0.5078125 ,  0.08398438, -0.07519531,\n",
       "       -0.06396484,  0.05371094,  0.34570312,  0.46289062, -0.16699219,\n",
       "       -0.30664062,  0.15234375, -0.09765625, -0.26171875, -0.14160156,\n",
       "        0.2265625 ,  0.49609375, -0.10791016, -0.08447266,  0.234375  ,\n",
       "        0.04931641, -0.07128906,  0.05273438, -0.11914062,  0.09814453,\n",
       "        0.11181641, -0.13574219, -0.46875   ,  0.26171875,  0.12158203,\n",
       "        0.31445312,  0.05810547,  0.0703125 , -0.10107422, -0.27734375,\n",
       "       -0.16796875, -0.07128906, -0.08007812,  0.07226562, -0.1484375 ,\n",
       "        0.22949219,  0.03686523, -0.03857422,  0.00616455, -0.12255859,\n",
       "       -0.01940918, -0.0625    ,  0.26953125,  0.34179688, -0.00427246,\n",
       "       -0.49023438, -0.38867188, -0.24316406,  0.12304688,  0.07421875,\n",
       "       -0.25195312,  0.14941406, -0.265625  ,  0.30859375, -0.05834961,\n",
       "       -0.19726562, -0.14941406,  0.01031494, -0.07275391, -0.23632812,\n",
       "       -0.1484375 ,  0.3046875 , -0.10351562,  0.69140625, -0.29492188,\n",
       "       -0.25976562, -0.29296875,  0.31445312, -0.11083984, -0.5       ,\n",
       "       -0.04443359,  0.10058594,  0.04858398, -0.0625    ,  0.02001953,\n",
       "        0.08837891, -0.10058594, -0.00113678,  0.390625  ,  0.16894531,\n",
       "        0.01318359,  0.15625   ,  0.10595703,  0.29296875,  0.18457031,\n",
       "        0.13867188,  0.15820312, -0.38671875,  0.20214844,  0.17285156,\n",
       "        0.578125  , -0.05029297, -0.34179688,  0.46875   ,  0.34765625,\n",
       "        0.23535156, -0.20996094, -0.32226562, -0.26367188, -0.02160645,\n",
       "        0.50390625, -0.31054688, -0.2265625 ,  0.31640625, -0.14550781,\n",
       "        0.05639648, -0.18847656,  0.05126953,  0.73828125,  0.04174805,\n",
       "       -0.02392578, -0.375     , -0.18847656, -0.0625    ,  0.50390625,\n",
       "       -0.02844238, -0.05615234,  0.26367188, -0.0612793 ,  0.06030273,\n",
       "       -0.171875  , -0.00866699,  0.20019531, -0.03173828, -0.18164062,\n",
       "        0.40429688, -0.03710938, -0.03515625,  0.18261719, -0.47070312,\n",
       "       -0.07275391,  0.32617188, -0.17285156, -0.22265625,  0.27929688,\n",
       "       -0.57421875,  0.07275391,  0.20898438, -0.30273438,  0.19335938,\n",
       "        0.04907227, -0.15820312, -0.17675781,  0.18066406,  0.42773438,\n",
       "       -0.25390625,  0.29101562, -0.04760742, -0.28710938, -0.08837891,\n",
       "        0.28710938, -0.3828125 , -0.13574219,  0.05297852, -0.22265625,\n",
       "       -0.09179688, -0.06738281, -0.53125   ,  0.06933594,  0.02514648,\n",
       "        0.04443359, -0.18457031, -0.31054688,  0.02856445,  0.16992188,\n",
       "        0.01196289, -0.12109375,  0.00430298,  0.171875  ,  0.06640625,\n",
       "       -0.02954102, -0.39453125,  0.515625  ,  0.2109375 ,  0.03637695,\n",
       "       -0.390625  , -0.04980469, -0.13378906, -0.19140625, -0.34375   ,\n",
       "       -0.21289062,  0.375     ,  0.03039551,  0.1796875 , -0.37109375,\n",
       "        0.07763672, -0.07666016,  0.07910156, -0.15234375, -0.15429688,\n",
       "       -0.15039062,  0.12304688,  0.1796875 , -0.19335938,  0.125     ,\n",
       "        0.17285156,  0.03173828,  0.24121094, -0.34765625, -0.15136719,\n",
       "       -0.09619141,  0.09326172,  0.13964844, -0.20410156, -0.3671875 ,\n",
       "        0.02368164, -0.24804688,  0.17578125,  0.22460938,  0.18652344,\n",
       "       -0.44921875, -0.1640625 , -0.08837891,  0.1484375 , -0.0480957 ,\n",
       "        0.23144531, -0.06176758, -0.53125   , -0.23730469, -0.26953125,\n",
       "        0.02770996, -0.09667969, -0.05249023, -0.00543213, -0.05981445,\n",
       "        0.3203125 ,  0.34570312, -0.06591797, -0.05786133,  0.54296875,\n",
       "       -0.17675781, -0.05810547, -0.0378418 , -0.14550781, -0.265625  ,\n",
       "       -0.01153564,  0.3515625 ,  0.2421875 ,  0.24023438,  0.01025391,\n",
       "       -0.31445312, -0.20410156, -0.02172852, -0.21386719,  0.52734375,\n",
       "        0.12451172,  0.16113281, -0.46289062,  0.05126953, -0.02648926,\n",
       "       -0.546875  ,  0.30859375, -0.0534668 , -0.34765625,  0.3984375 ], dtype=float32)"
      ]
     },
     "execution_count": 6,
     "metadata": {},
     "output_type": "execute_result"
    }
   ],
   "source": [
    "gmodel['spatula']"
   ]
  },
  {
   "cell_type": "code",
   "execution_count": 7,
   "metadata": {},
   "outputs": [
    {
     "data": {
      "text/plain": [
       "0.76094570897822089"
      ]
     },
     "execution_count": 7,
     "metadata": {},
     "output_type": "execute_result"
    }
   ],
   "source": [
    "gmodel.similarity('cat', 'dog')"
   ]
  },
  {
   "cell_type": "code",
   "execution_count": 8,
   "metadata": {},
   "outputs": [
    {
     "data": {
      "text/plain": [
       "0.12412612600429632"
      ]
     },
     "execution_count": 8,
     "metadata": {},
     "output_type": "execute_result"
    }
   ],
   "source": [
    "gmodel.similarity('cat', 'spatula')"
   ]
  },
  {
   "cell_type": "code",
   "execution_count": 6,
   "metadata": {
    "collapsed": true
   },
   "outputs": [],
   "source": [
    "from gensim.models.doc2vec import TaggedDocument\n",
    "from gensim.models import Doc2Vec"
   ]
  },
  {
   "cell_type": "code",
   "execution_count": 7,
   "metadata": {
    "collapsed": true
   },
   "outputs": [],
   "source": [
    "def extract_words(sent):\n",
    "    sent = sent.lower()\n",
    "    sent = re.sub(r'<[^>]+>', ' ', sent) # strip html tags\n",
    "    sent = re.sub(r'(\\w)\\'(\\w)', '\\1\\2', sent) # remove apostrophes\n",
    "    sent = re.sub(r'\\W', ' ', sent) # remove punctuation\n",
    "    sent = re.sub(r'\\s+', ' ', sent) # remove repeated spaces\n",
    "    sent = sent.strip()\n",
    "    return sent.split()"
   ]
  },
  {
   "cell_type": "code",
   "execution_count": 8,
   "metadata": {
    "collapsed": true
   },
   "outputs": [],
   "source": [
    "# unsupervised training data\n",
    "import re\n",
    "import os\n",
    "unsup_sentences = []\n",
    "\n",
    "# source: http://ai.stanford.edu/~amaas/data/sentiment/, data from IMDB\n",
    "for dirname in [\"train/pos\", \"train/neg\", \"train/unsup\", \"test/pos\", \"test/neg\"]:\n",
    "    for fname in sorted(os.listdir(\"aclImdb/\" + dirname)):\n",
    "        if fname[-4:] == '.txt':\n",
    "            with open(\"aclImdb/\" + dirname + \"/\" + fname, encoding='UTF-8') as f:\n",
    "                sent = f.read()\n",
    "                words = extract_words(sent)\n",
    "                unsup_sentences.append(TaggedDocument(words, [dirname + \"/\" + fname]))\n",
    "\n",
    "# source: http://www.cs.cornell.edu/people/pabo/movie-review-data/\n",
    "for dirname in [\"review_polarity/txt_sentoken/pos\", \"review_polarity/txt_sentoken/neg\"]:\n",
    "    for fname in sorted(os.listdir(dirname)):\n",
    "        if fname[-4:] == '.txt':\n",
    "            with open(dirname + \"/\" + fname, encoding='UTF-8') as f:\n",
    "                for i, sent in enumerate(f):\n",
    "                    words = extract_words(sent)\n",
    "                    unsup_sentences.append(TaggedDocument(words, [\"%s/%s-%d\" % (dirname, fname, i)]))\n",
    "                \n",
    "# source: https://nlp.stanford.edu/sentiment/, data from Rotten Tomatoes\n",
    "with open(\"stanfordSentimentTreebank/original_rt_snippets.txt\", encoding='UTF-8') as f:\n",
    "    for i, line in enumerate(f):\n",
    "        words = extract_words(sent)\n",
    "        unsup_sentences.append(TaggedDocument(words, [\"rt-%d\" % i]))"
   ]
  },
  {
   "cell_type": "code",
   "execution_count": 9,
   "metadata": {},
   "outputs": [
    {
     "data": {
      "text/plain": [
       "175325"
      ]
     },
     "execution_count": 9,
     "metadata": {},
     "output_type": "execute_result"
    }
   ],
   "source": [
    "len(unsup_sentences)"
   ]
  },
  {
   "cell_type": "code",
   "execution_count": 10,
   "metadata": {},
   "outputs": [
    {
     "data": {
      "text/plain": [
       "[TaggedDocument(words=['bromwell', 'high', 'is', 'a', 'cartoon', 'comedy', 'it', 'ran', 'at', 'the', 'same', 'time', 'as', 'some', 'other', 'programs', 'about', 'school', 'life', 'such', 'as', 'teachers', 'my', '35', 'years', 'in', 'the', 'teaching', 'profession', 'lead', 'me', 'to', 'believe', 'that', 'bromwell', 'hig', 'satire', 'is', 'much', 'closer', 'to', 'reality', 'than', 'is', 'teachers', 'the', 'scramble', 'to', 'survive', 'financially', 'the', 'insightful', 'students', 'who', 'can', 'see', 'right', 'through', 'their', 'pathetic', 'teachers', 'pomp', 'the', 'pettiness', 'of', 'the', 'whole', 'situation', 'all', 'remind', 'me', 'of', 'the', 'schools', 'i', 'knew', 'and', 'their', 'students', 'when', 'i', 'saw', 'the', 'episode', 'in', 'which', 'a', 'student', 'repeatedly', 'tried', 'to', 'burn', 'down', 'the', 'school', 'i', 'immediately', 'recalled', 'at', 'high', 'a', 'classic', 'line', 'inspector', 'here', 'to', 'sack', 'one', 'of', 'your', 'teachers', 'student', 'welcome', 'to', 'bromwell', 'high', 'i', 'expect', 'that', 'many', 'adults', 'of', 'my', 'age', 'think', 'that', 'bromwell', 'high', 'is', 'far', 'fetched', 'what', 'a', 'pity', 'that', 'it', 'is'], tags=['train/pos/0_9.txt']),\n",
       " TaggedDocument(words=['homelessness', 'or', 'houselessness', 'as', 'george', 'carlin', 'stated', 'has', 'been', 'an', 'issue', 'for', 'years', 'but', 'never', 'a', 'plan', 'to', 'help', 'those', 'on', 'the', 'street', 'that', 'were', 'once', 'considered', 'human', 'who', 'did', 'everything', 'from', 'going', 'to', 'school', 'work', 'or', 'vote', 'for', 'the', 'matter', 'most', 'people', 'think', 'of', 'the', 'homeless', 'as', 'just', 'a', 'lost', 'cause', 'while', 'worrying', 'about', 'things', 'such', 'as', 'racism', 'the', 'war', 'on', 'iraq', 'pressuring', 'kids', 'to', 'succeed', 'technology', 'the', 'elections', 'inflation', 'or', 'worrying', 'if', 'the', 'l', 'be', 'next', 'to', 'end', 'up', 'on', 'the', 'streets', 'but', 'what', 'if', 'you', 'were', 'given', 'a', 'bet', 'to', 'live', 'on', 'the', 'streets', 'for', 'a', 'month', 'without', 'the', 'luxuries', 'you', 'once', 'had', 'from', 'a', 'home', 'the', 'entertainment', 'sets', 'a', 'bathroom', 'pictures', 'on', 'the', 'wall', 'a', 'computer', 'and', 'everything', 'you', 'once', 'treasure', 'to', 'see', 'what', 'i', 'like', 'to', 'be', 'homeless', 'that', 'is', 'goddard', 'bol', 'lesson', 'mel', 'brooks', 'who', 'directs', 'who', 'stars', 'as', 'bolt', 'plays', 'a', 'rich', 'man', 'who', 'has', 'everything', 'in', 'the', 'world', 'until', 'deciding', 'to', 'make', 'a', 'bet', 'with', 'a', 'sissy', 'rival', 'jeffery', 'tambor', 'to', 'see', 'if', 'he', 'can', 'live', 'in', 'the', 'streets', 'for', 'thirty', 'days', 'without', 'the', 'luxuries', 'if', 'bolt', 'succeeds', 'he', 'can', 'do', 'what', 'he', 'wants', 'with', 'a', 'future', 'project', 'of', 'making', 'more', 'buildings', 'the', 'be', 'on', 'where', 'bolt', 'is', 'thrown', 'on', 'the', 'street', 'with', 'a', 'bracelet', 'on', 'his', 'leg', 'to', 'monitor', 'his', 'every', 'move', 'where', 'he', 'ca', 'step', 'off', 'the', 'sidewalk', 'h', 'given', 'the', 'nickname', 'pepto', 'by', 'a', 'vagrant', 'after', 'i', 'written', 'on', 'his', 'forehead', 'where', 'bolt', 'meets', 'other', 'characters', 'including', 'a', 'woman', 'by', 'the', 'name', 'of', 'molly', 'lesley', 'ann', 'warren', 'an', 'ex', 'dancer', 'who', 'got', 'divorce', 'before', 'losing', 'her', 'home', 'and', 'her', 'pals', 'sailor', 'howard', 'morris', 'and', 'fumes', 'teddy', 'wilson', 'who', 'are', 'already', 'used', 'to', 'the', 'streets', 'the', 'e', 'survivors', 'bolt', 'is', 'h', 'not', 'used', 'to', 'reaching', 'mutual', 'agreements', 'like', 'he', 'once', 'did', 'when', 'being', 'rich', 'where', 'i', 'fight', 'or', 'flight', 'kill', 'or', 'be', 'killed', 'while', 'the', 'love', 'connection', 'between', 'molly', 'and', 'bolt', 'was', 'necessary', 'to', 'plot', 'i', 'found', 'life', 'stinks', 'to', 'be', 'one', 'of', 'mel', 'brooks', 'observant', 'films', 'where', 'prior', 'to', 'being', 'a', 'comedy', 'it', 'shows', 'a', 'tender', 'side', 'compared', 'to', 'his', 'slapstick', 'work', 'such', 'as', 'blazing', 'saddles', 'young', 'frankenstein', 'or', 'spaceballs', 'for', 'the', 'matter', 'to', 'show', 'what', 'i', 'like', 'having', 'something', 'valuable', 'before', 'losing', 'it', 'the', 'next', 'day', 'or', 'on', 'the', 'other', 'hand', 'making', 'a', 'stupid', 'bet', 'like', 'all', 'rich', 'people', 'do', 'when', 'they', 'do', 'know', 'what', 'to', 'do', 'with', 'their', 'money', 'maybe', 'they', 'should', 'give', 'it', 'to', 'the', 'homeless', 'instead', 'of', 'using', 'it', 'like', 'monopoly', 'money', 'or', 'maybe', 'this', 'film', 'will', 'inspire', 'you', 'to', 'help', 'others'], tags=['train/pos/10000_8.txt']),\n",
       " TaggedDocument(words=['brilliant', 'over', 'acting', 'by', 'lesley', 'ann', 'warren', 'best', 'dramatic', 'hobo', 'lady', 'i', 'have', 'ever', 'seen', 'and', 'love', 'scenes', 'in', 'clothes', 'warehouse', 'are', 'second', 'to', 'none', 'the', 'corn', 'on', 'face', 'is', 'a', 'classic', 'as', 'good', 'as', 'anything', 'in', 'blazing', 'saddles', 'the', 'take', 'on', 'lawyers', 'is', 'also', 'superb', 'after', 'being', 'accused', 'of', 'being', 'a', 'turncoat', 'selling', 'out', 'his', 'boss', 'and', 'being', 'dishonest', 'the', 'lawyer', 'of', 'pepto', 'bolt', 'shrugs', 'indifferently', 'a', 'lawyer', 'he', 'says', 'three', 'funny', 'words', 'jeffrey', 'tambor', 'a', 'favorite', 'from', 'the', 'later', 'larry', 'sanders', 'show', 'is', 'fantastic', 'here', 'too', 'as', 'a', 'mad', 'millionaire', 'who', 'wants', 'to', 'crush', 'the', 'ghetto', 'his', 'character', 'is', 'more', 'malevolent', 'than', 'usual', 'the', 'hospital', 'scene', 'and', 'the', 'scene', 'where', 'the', 'homeless', 'invade', 'a', 'demolition', 'site', 'are', 'all', 'time', 'classics', 'look', 'for', 'the', 'legs', 'scene', 'and', 'the', 'two', 'big', 'diggers', 'fighting', 'one', 'bleeds', 'this', 'movie', 'gets', 'better', 'each', 'time', 'i', 'see', 'it', 'which', 'is', 'quite', 'often'], tags=['train/pos/10001_10.txt']),\n",
       " TaggedDocument(words=['this', 'is', 'easily', 'the', 'most', 'underrated', 'film', 'inn', 'the', 'brooks', 'cannon', 'sure', 'its', 'flawed', 'it', 'does', 'not', 'give', 'a', 'realistic', 'view', 'of', 'homelessness', 'unlike', 'say', 'how', 'citizen', 'kane', 'gave', 'a', 'realistic', 'view', 'of', 'lounge', 'singers', 'or', 'titanic', 'gave', 'a', 'realistic', 'view', 'of', 'italians', 'you', 'idiots', 'many', 'of', 'the', 'jokes', 'fall', 'flat', 'but', 'still', 'this', 'film', 'is', 'very', 'lovable', 'in', 'a', 'way', 'many', 'comedies', 'are', 'not', 'and', 'to', 'pull', 'that', 'off', 'in', 'a', 'story', 'about', 'some', 'of', 'the', 'most', 'traditionally', 'reviled', 'members', 'of', 'society', 'is', 'truly', 'impressive', 'its', 'not', 'the', 'fisher', 'king', 'but', 'its', 'not', 'crap', 'either', 'my', 'only', 'complaint', 'is', 'that', 'brooks', 'should', 'have', 'cast', 'someone', 'else', 'in', 'the', 'lead', 'i', 'love', 'mel', 'as', 'a', 'director', 'and', 'writer', 'not', 'so', 'much', 'as', 'a', 'lead'], tags=['train/pos/10002_7.txt']),\n",
       " TaggedDocument(words=['this', 'is', 'not', 'the', 'typical', 'mel', 'brooks', 'film', 'it', 'was', 'much', 'less', 'slapstick', 'than', 'most', 'of', 'his', 'movies', 'and', 'actually', 'had', 'a', 'plot', 'that', 'was', 'followable', 'leslie', 'ann', 'warren', 'made', 'the', 'movie', 'she', 'is', 'such', 'a', 'fantastic', 'under', 'rated', 'actress', 'there', 'were', 'some', 'moments', 'that', 'could', 'have', 'been', 'fleshed', 'out', 'a', 'bit', 'more', 'and', 'some', 'scenes', 'that', 'could', 'probably', 'have', 'been', 'cut', 'to', 'make', 'the', 'room', 'to', 'do', 'so', 'but', 'all', 'in', 'all', 'this', 'is', 'worth', 'the', 'price', 'to', 'rent', 'and', 'see', 'it', 'the', 'acting', 'was', 'good', 'overall', 'brooks', 'himself', 'did', 'a', 'good', 'job', 'without', 'his', 'characteristic', 'speaking', 'to', 'directly', 'to', 'the', 'audience', 'again', 'warren', 'was', 'the', 'best', 'actor', 'in', 'the', 'movie', 'but', 'fume', 'and', 'sailor', 'both', 'played', 'their', 'parts', 'well'], tags=['train/pos/10003_8.txt']),\n",
       " TaggedDocument(words=['this', 'is', 'the', 'comedic', 'robin', 'williams', 'nor', 'is', 'it', 'the', 'quirky', 'insane', 'robin', 'williams', 'of', 'recent', 'thriller', 'fame', 'this', 'is', 'a', 'hybrid', 'of', 'the', 'classic', 'drama', 'without', 'over', 'dramatization', 'mixed', 'with', 'robi', 'new', 'love', 'of', 'the', 'thriller', 'but', 'this', 'is', 'a', 'thriller', 'per', 'se', 'this', 'is', 'more', 'a', 'mystery', 'suspense', 'vehicle', 'through', 'which', 'williams', 'attempts', 'to', 'locate', 'a', 'sick', 'boy', 'and', 'his', 'keeper', 'also', 'starring', 'sandra', 'oh', 'and', 'rory', 'culkin', 'this', 'suspense', 'drama', 'plays', 'pretty', 'much', 'like', 'a', 'news', 'report', 'until', 'willia', 'character', 'gets', 'close', 'to', 'achieving', 'his', 'goal', 'i', 'must', 'say', 'that', 'i', 'was', 'highly', 'entertained', 'though', 'this', 'movie', 'fails', 'to', 'teach', 'guide', 'inspect', 'or', 'amuse', 'it', 'felt', 'more', 'like', 'i', 'was', 'watching', 'a', 'guy', 'williams', 'as', 'he', 'was', 'actually', 'performing', 'the', 'actions', 'from', 'a', 'third', 'person', 'perspective', 'in', 'other', 'words', 'it', 'felt', 'real', 'and', 'i', 'was', 'able', 'to', 'subscribe', 'to', 'the', 'premise', 'of', 'the', 'story', 'all', 'in', 'all', 'i', 'worth', 'a', 'watch', 'though', 'i', 'definitely', 'not', 'friday', 'saturday', 'night', 'fare', 'it', 'rates', 'a', '7', '7', '10', 'from', 'the', 'fiend'], tags=['train/pos/10004_8.txt']),\n",
       " TaggedDocument(words=['yes', 'its', 'an', 'art', 'to', 'successfully', 'make', 'a', 'slow', 'paced', 'thriller', 'the', 'story', 'unfolds', 'in', 'nice', 'volumes', 'while', 'you', 'do', 'even', 'notice', 'it', 'happening', 'fine', 'performance', 'by', 'robin', 'williams', 'the', 'sexuality', 'angles', 'in', 'the', 'film', 'can', 'seem', 'unnecessary', 'and', 'can', 'probably', 'affect', 'how', 'much', 'you', 'enjoy', 'the', 'film', 'however', 'the', 'core', 'plot', 'is', 'very', 'engaging', 'the', 'movie', 'does', 'rush', 'onto', 'you', 'and', 'still', 'grips', 'you', 'enough', 'to', 'keep', 'you', 'wondering', 'the', 'direction', 'is', 'good', 'use', 'of', 'lights', 'to', 'achieve', 'desired', 'affects', 'of', 'suspense', 'and', 'unexpectedness', 'is', 'good', 'very', 'nice', '1', 'time', 'watch', 'if', 'you', 'are', 'looking', 'to', 'lay', 'back', 'and', 'hear', 'a', 'thrilling', 'short', 'story'], tags=['train/pos/10005_7.txt']),\n",
       " TaggedDocument(words=['in', 'this', 'critically', 'acclaimed', 'psychological', 'thriller', 'based', 'on', 'true', 'events', 'gabriel', 'robin', 'williams', 'a', 'celebrated', 'writer', 'and', 'late', 'night', 'talk', 'show', 'host', 'becomes', 'captivated', 'by', 'the', 'harrowing', 'story', 'of', 'a', 'young', 'listener', 'and', 'his', 'adoptive', 'mother', 'toni', 'collette', 'when', 'troubling', 'questions', 'arise', 'about', 'this', 'bo', 'story', 'however', 'gabriel', 'finds', 'himself', 'drawn', 'into', 'a', 'widening', 'mystery', 'that', 'hides', 'a', 'deadly', 'secret', 'according', 'to', 'fil', 'official', 'synopsis', 'you', 'really', 'should', 'stop', 'reading', 'these', 'comments', 'and', 'watch', 'the', 'film', 'now', 'the', 'how', 'did', 'he', 'lose', 'his', 'leg', 'ending', 'with', 'ms', 'collette', 'planning', 'her', 'new', 'life', 'should', 'be', 'chopped', 'off', 'and', 'sent', 'to', 'deleted', 'scenes', 'land', 'i', 'overkill', 'the', 'true', 'nature', 'of', 'her', 'physical', 'and', 'mental', 'ailments', 'should', 'be', 'obvious', 'by', 'the', 'time', 'mr', 'williams', 'returns', 'to', 'new', 'york', 'possibly', 'her', 'blindness', 'could', 'be', 'in', 'question', 'but', 'a', 'revelation', 'could', 'have', 'be', 'made', 'certain', 'in', 'either', 'the', 'highway', 'or', 'video', 'tape', 'scenes', 'the', 'film', 'would', 'benefit', 'from', 'a', 're', 'editing', 'how', 'about', 'a', 'directo', 'cut', 'williams', 'and', 'bobby', 'cannavale', 'as', 'jess', 'do', 'seem', 'initially', 'believable', 'as', 'a', 'couple', 'a', 'scene', 'or', 'two', 'establishing', 'their', 'relationship', 'might', 'have', 'helped', 'set', 'the', 'stage', 'otherwise', 'the', 'cast', 'is', 'exemplary', 'williams', 'offers', 'an', 'exceptionally', 'strong', 'characterization', 'and', 'not', 'a', 'gay', 'impersonation', 'sandra', 'oh', 'as', 'anna', 'joe', 'morton', 'as', 'ashe', 'and', 'rory', 'culkin', 'pete', 'logand', 'are', 'all', 'perfect', 'best', 'of', 'all', 'collett', 'donna', 'belongs', 'in', 'the', 'creepy', 'hall', 'of', 'fame', 'ms', 'oh', 'is', 'correct', 'in', 'saying', 'collette', 'might', 'be', 'you', 'know', 'like', 'that', 'guy', 'from', 'psycho', 'there', 'have', 'been', 'several', 'years', 'when', 'organizations', 'giving', 'acting', 'awards', 'seemed', 'to', 'reach', 'for', 'women', 'due', 'to', 'a', 'slighter', 'dispersion', 'of', 'roles', 'certainly', 'they', 'could', 'have', 'noticed', 'collette', 'with', 'some', 'award', 'consideration', 'she', 'is', 'that', 'good', 'and', 'director', 'patrick', 'stettner', 'definitely', 'evokes', 'hitchcock', 'he', 'even', 'makes', 'getting', 'a', 'sandwich', 'from', 'a', 'vending', 'machine', 'suspenseful', 'finally', 'writers', 'stettner', 'armistead', 'maupin', 'and', 'terry', 'anderson', 'deserve', 'gratitude', 'from', 'flight', 'attendants', 'everywhere', 'the', 'night', 'listener', '1', '21', '06', 'patrick', 'stettner', 'robin', 'williams', 'toni', 'collette', 'sandra', 'oh', 'rory', 'culkin'], tags=['train/pos/10006_7.txt']),\n",
       " TaggedDocument(words=['the', 'night', 'listener', '2006', '1', '2', 'robin', 'williams', 'toni', 'collette', 'bobby', 'cannavale', 'rory', 'culkin', 'joe', 'morton', 'sandra', 'oh', 'john', 'cullum', 'lisa', 'emery', 'becky', 'ann', 'baker', 'dir', 'patrick', 'stettner', 'hitchcockian', 'suspenser', 'gives', 'williams', 'a', 'stand', 'out', 'low', 'key', 'performance', 'what', 'is', 'it', 'about', 'celebrities', 'and', 'fans', 'what', 'is', 'the', 'near', 'paranoia', 'one', 'associates', 'with', 'the', 'other', 'and', 'why', 'is', 'it', 'almost', 'the', 'norm', 'in', 'the', 'latest', 'derange', 'fan', 'scenario', 'based', 'on', 'true', 'events', 'no', 'less', 'williams', 'stars', 'as', 'a', 'talk', 'radio', 'personality', 'named', 'gabriel', 'no', 'one', 'who', 'reads', 'stories', 'h', 'penned', 'over', 'the', 'airwaves', 'and', 'has', 'accumulated', 'an', 'interesting', 'fan', 'in', 'the', 'form', 'of', 'a', 'young', 'boy', 'named', 'pete', 'logand', 'culkin', 'who', 'has', 'submitted', 'a', 'manuscript', 'about', 'the', 'travails', 'of', 'his', 'troubled', 'youth', 'to', 'no', 'on', 'editor', 'ashe', 'morton', 'who', 'gives', 'it', 'to', 'no', 'one', 'to', 'read', 'for', 'himself', 'no', 'one', 'is', 'naturally', 'disturbed', 'but', 'ultimately', 'intrigued', 'about', 'the', 'nightmarish', 'existence', 'of', 'pete', 'being', 'abducted', 'and', 'sexually', 'abused', 'for', 'years', 'until', 'he', 'was', 'finally', 'rescued', 'by', 'a', 'nurse', 'named', 'donna', 'collette', 'giving', 'an', 'excellent', 'performance', 'who', 'has', 'adopted', 'the', 'boy', 'but', 'her', 'correspondence', 'with', 'no', 'one', 'reveals', 'that', 'pete', 'is', 'dying', 'from', 'aids', 'naturally', 'no', 'one', 'wants', 'to', 'meet', 'the', 'fans', 'but', 'is', 'suddenly', 'in', 'doubt', 'to', 'their', 'possibly', 'devious', 'ulterior', 'motives', 'when', 'the', 'seed', 'is', 'planted', 'by', 'his', 'estranged', 'lover', 'jess', 'cannavale', 'whose', 'sudden', 'departure', 'from', 'their', 'new', 'york', 'city', 'apartment', 'has', 'no', 'one', 'in', 'an', 'emotional', 'tailspin', 'that', 'has', 'only', 'now', 'grown', 'into', 'a', 'tempest', 'in', 'a', 'teacup', 'when', 'he', 'decides', 'to', 'do', 'some', 'investigating', 'into', 'donna', 'and', 'pet', 'backgrounds', 'discovering', 'some', 'truths', 'that', 'he', 'did', 'anticipate', 'written', 'by', 'armistead', 'maupin', 'who', 'co', 'wrote', 'the', 'screenplay', 'with', 'his', 'former', 'lover', 'terry', 'anderson', 'and', 'the', 'fil', 'novice', 'director', 'stettner', 'and', 'based', 'on', 'a', 'true', 'story', 'about', 'a', 'fa', 'hoax', 'found', 'out', 'has', 'some', 'hitchcockian', 'moments', 'that', 'run', 'on', 'full', 'tilt', 'like', 'any', 'good', 'old', 'fashioned', 'pot', 'boiler', 'does', 'it', 'helps', 'that', 'williams', 'gives', 'a', 'stand', 'out', 'low', 'key', 'performance', 'as', 'the', 'conflicted', 'good', 'hearted', 'personality', 'who', 'genuinely', 'wants', 'to', 'believe', 'that', 'his', 'number', 'one', 'fan', 'is', 'in', 'fact', 'real', 'and', 'does', 'love', 'him', 'the', 'one', 'thing', 'that', 'has', 'escaped', 'his', 'own', 'reality', 'and', 'has', 'some', 'unsettling', 'dreadful', 'moments', 'with', 'the', 'creepy', 'collette', 'whose', 'one', 'physical', 'trait', 'i', 'will', 'leave', 'unmentioned', 'but', 'underlines', 'the', 'desperation', 'of', 'her', 'character', 'that', 'can', 'rattle', 'you', 'to', 'the', 'core', 'however', 'the', 'film', 'runs', 'out', 'of', 'gas', 'and', 'eventually', 'becomes', 'a', 'bit', 'repetitive', 'and', 'predictable', 'despite', 'a', 'finely', 'directed', 'piece', 'of', 'hoodwink', 'and', 'mystery', 'by', 'stettner', 'it', 'pays', 'to', 'listen', 'to', 'your', 'own', 'inner', 'voice', 'be', 'careful', 'of', 'what', 'you', 'hope', 'for'], tags=['train/pos/10007_7.txt']),\n",
       " TaggedDocument(words=['you', 'know', 'robin', 'williams', 'god', 'bless', 'him', 'is', 'constantly', 'shooting', 'himself', 'in', 'the', 'foot', 'lately', 'with', 'all', 'these', 'dumb', 'comedies', 'he', 'has', 'done', 'this', 'decade', 'with', 'perhaps', 'the', 'exception', 'of', 'death', 'to', 'smoochy', 'which', 'bombed', 'when', 'it', 'came', 'out', 'but', 'is', 'now', 'a', 'cult', 'classic', 'the', 'dramas', 'he', 'has', 'made', 'lately', 'have', 'been', 'fantastic', 'especially', 'insomnia', 'and', 'one', 'hour', 'photo', 'the', 'night', 'listener', 'despite', 'mediocre', 'reviews', 'and', 'a', 'quick', 'dvd', 'release', 'is', 'among', 'his', 'best', 'work', 'period', 'this', 'is', 'a', 'very', 'chilling', 'story', 'even', 'though', 'it', 'does', 'include', 'a', 'serial', 'killer', 'or', 'anyone', 'that', 'physically', 'dangerous', 'for', 'that', 'matter', 'the', 'concept', 'of', 'the', 'film', 'is', 'based', 'on', 'an', 'actual', 'case', 'of', 'fraud', 'that', 'still', 'has', 'yet', 'to', 'be', 'officially', 'confirmed', 'in', 'high', 'school', 'i', 'read', 'an', 'autobiography', 'by', 'a', 'child', 'named', 'anthony', 'godby', 'johnson', 'who', 'suffered', 'horrific', 'abuse', 'and', 'eventually', 'contracted', 'aids', 'as', 'a', 'result', 'i', 'was', 'moved', 'by', 'the', 'story', 'until', 'i', 'read', 'reports', 'online', 'that', 'johnson', 'may', 'not', 'actually', 'exist', 'when', 'i', 'saw', 'this', 'movie', 'the', 'confused', 'feelings', 'that', 'robin', 'williams', 'so', 'brilliantly', 'portrayed', 'resurfaced', 'in', 'my', 'mind', 'toni', 'collette', 'probably', 'gives', 'her', 'best', 'dramatic', 'performance', 'too', 'as', 'the', 'ultimately', 'sociopathic', 'caretaker', 'her', 'role', 'was', 'a', 'far', 'cry', 'from', 'those', 'she', 'had', 'in', 'movies', 'like', 'little', 'miss', 'sunshine', 'there', 'were', 'even', 'times', 'she', 'looked', 'into', 'the', 'camera', 'where', 'i', 'thought', 'she', 'was', 'staring', 'right', 'at', 'me', 'it', 'takes', 'a', 'good', 'actress', 'to', 'play', 'that', 'sort', 'of', 'role', 'and', 'i', 'this', 'understated', 'yet', 'well', 'reviewed', 'role', 'that', 'makes', 'toni', 'collette', 'probably', 'one', 'of', 'the', 'best', 'actresses', 'of', 'this', 'generation', 'not', 'to', 'have', 'even', 'been', 'nominated', 'for', 'an', 'academy', 'award', 'as', 'of', '2008', 'i', 'incredible', 'that', 'there', 'is', 'at', 'least', 'one', 'woman', 'in', 'this', 'world', 'who', 'is', 'like', 'this', 'and', 'i', 'scary', 'too', 'this', 'is', 'a', 'good', 'dark', 'film', 'that', 'i', 'highly', 'recommend', 'be', 'prepared', 'to', 'be', 'unsettled', 'though', 'because', 'this', 'movie', 'leaves', 'you', 'with', 'a', 'strange', 'feeling', 'at', 'the', 'end'], tags=['train/pos/10008_7.txt'])]"
      ]
     },
     "execution_count": 10,
     "metadata": {},
     "output_type": "execute_result"
    }
   ],
   "source": [
    "unsup_sentences[0:10]"
   ]
  },
  {
   "cell_type": "code",
   "execution_count": 11,
   "metadata": {
    "collapsed": true
   },
   "outputs": [],
   "source": [
    "import random\n",
    "class PermuteSentences(object):\n",
    "    def __init__(self, sents):\n",
    "        self.sents = sents\n",
    "        \n",
    "    def __iter__(self):\n",
    "        shuffled = list(self.sents)\n",
    "        random.shuffle(shuffled)\n",
    "        for sent in shuffled:\n",
    "            yield sent"
   ]
  },
  {
   "cell_type": "code",
   "execution_count": 13,
   "metadata": {},
   "outputs": [
    {
     "name": "stderr",
     "output_type": "stream",
     "text": [
      "2023-03-21 23:23:57,205 : INFO : collecting all words and their counts\n",
      "2023-03-21 23:23:57,479 : INFO : PROGRESS: at example #0, processed 0 words (0 words/s), 0 word types, 0 tags\n",
      "2023-03-21 23:23:57,996 : INFO : PROGRESS: at example #10000, processed 1396420 words (2709469 words/s), 44843 word types, 10000 tags\n",
      "2023-03-21 23:23:58,623 : INFO : PROGRESS: at example #20000, processed 2815670 words (2267209 words/s), 61122 word types, 20000 tags\n",
      "2023-03-21 23:23:59,103 : INFO : PROGRESS: at example #30000, processed 4227152 words (2950961 words/s), 72720 word types, 30000 tags\n",
      "2023-03-21 23:23:59,728 : INFO : PROGRESS: at example #40000, processed 5595829 words (2189628 words/s), 82255 word types, 40000 tags\n",
      "2023-03-21 23:24:00,244 : INFO : PROGRESS: at example #50000, processed 6980354 words (2693028 words/s), 90372 word types, 50000 tags\n",
      "2023-03-21 23:24:00,819 : INFO : PROGRESS: at example #60000, processed 8407655 words (2488768 words/s), 97845 word types, 60000 tags\n",
      "2023-03-21 23:24:01,637 : INFO : PROGRESS: at example #70000, processed 9834123 words (1746869 words/s), 104613 word types, 70000 tags\n",
      "2023-03-21 23:24:02,194 : INFO : PROGRESS: at example #80000, processed 11257783 words (2559986 words/s), 110757 word types, 80000 tags\n",
      "2023-03-21 23:24:02,864 : INFO : PROGRESS: at example #90000, processed 12679110 words (2125404 words/s), 116633 word types, 90000 tags\n",
      "2023-03-21 23:24:03,564 : INFO : PROGRESS: at example #100000, processed 14085209 words (2012289 words/s), 122015 word types, 100000 tags\n",
      "2023-03-21 23:24:04,755 : INFO : PROGRESS: at example #110000, processed 15512824 words (1199717 words/s), 127134 word types, 110000 tags\n",
      "2023-03-21 23:24:05,287 : INFO : PROGRESS: at example #120000, processed 16905939 words (2630474 words/s), 131940 word types, 120000 tags\n",
      "2023-03-21 23:24:05,878 : INFO : PROGRESS: at example #130000, processed 18339126 words (2428926 words/s), 136544 word types, 130000 tags\n",
      "2023-03-21 23:24:06,459 : INFO : PROGRESS: at example #140000, processed 19756848 words (2444486 words/s), 141058 word types, 140000 tags\n",
      "2023-03-21 23:24:06,949 : INFO : PROGRESS: at example #150000, processed 21155710 words (2867358 words/s), 145339 word types, 150000 tags\n",
      "2023-03-21 23:24:07,681 : INFO : PROGRESS: at example #160000, processed 22565056 words (1926609 words/s), 149358 word types, 160000 tags\n",
      "2023-03-21 23:24:08,236 : INFO : PROGRESS: at example #170000, processed 23933058 words (2473720 words/s), 153287 word types, 170000 tags\n",
      "2023-03-21 23:24:10,608 : INFO : collected 155374 word types and 175325 unique tags from a corpus of 175325 examples and 24693510 words\n",
      "2023-03-21 23:24:10,609 : INFO : Creating a fresh vocabulary\n",
      "2023-03-21 23:24:10,987 : INFO : Doc2Vec lifecycle event {'msg': 'effective_min_count=5 retains 57730 unique words (37.16% of original 155374, drops 97644)', 'datetime': '2023-03-21T23:24:10.986756', 'gensim': '4.3.1', 'python': '3.9.0 (tags/v3.9.0:9cf6752, Oct  5 2020, 15:34:40) [MSC v.1927 64 bit (AMD64)]', 'platform': 'Windows-10-10.0.19041-SP0', 'event': 'prepare_vocab'}\n",
      "2023-03-21 23:24:10,990 : INFO : Doc2Vec lifecycle event {'msg': 'effective_min_count=5 leaves 24537325 word corpus (99.37% of original 24693510, drops 156185)', 'datetime': '2023-03-21T23:24:10.990707', 'gensim': '4.3.1', 'python': '3.9.0 (tags/v3.9.0:9cf6752, Oct  5 2020, 15:34:40) [MSC v.1927 64 bit (AMD64)]', 'platform': 'Windows-10-10.0.19041-SP0', 'event': 'prepare_vocab'}\n",
      "2023-03-21 23:24:11,588 : INFO : deleting the raw counts dictionary of 155374 items\n",
      "2023-03-21 23:24:11,596 : INFO : sample=0.001 downsamples 47 most-common words\n",
      "2023-03-21 23:24:11,597 : INFO : Doc2Vec lifecycle event {'msg': 'downsampling leaves estimated 18578883.228339408 word corpus (75.7%% of prior 24537325)', 'datetime': '2023-03-21T23:24:11.597084', 'gensim': '4.3.1', 'python': '3.9.0 (tags/v3.9.0:9cf6752, Oct  5 2020, 15:34:40) [MSC v.1927 64 bit (AMD64)]', 'platform': 'Windows-10-10.0.19041-SP0', 'event': 'prepare_vocab'}\n",
      "2023-03-21 23:24:11,676 : INFO : constructing a huffman tree from 57730 words\n",
      "2023-03-21 23:24:14,321 : INFO : built huffman tree with maximum node depth 22\n",
      "2023-03-21 23:24:15,030 : INFO : estimated required memory for 57730 words and 50 dimensions: 145179000 bytes\n",
      "2023-03-21 23:24:15,031 : INFO : resetting layer weights\n",
      "2023-03-21 23:24:15,154 : WARNING : Both hierarchical softmax and negative sampling are activated. This is probably a mistake. You should set either 'hs=0' or 'negative=0' to disable one of them. \n",
      "2023-03-21 23:24:15,157 : INFO : Doc2Vec lifecycle event {'msg': 'training model with 3 workers on 57730 vocabulary and 50 features, using sg=1 hs=1 sample=0.001 negative=5 window=5 shrink_windows=True', 'datetime': '2023-03-21T23:24:15.157726', 'gensim': '4.3.1', 'python': '3.9.0 (tags/v3.9.0:9cf6752, Oct  5 2020, 15:34:40) [MSC v.1927 64 bit (AMD64)]', 'platform': 'Windows-10-10.0.19041-SP0', 'event': 'train'}\n",
      "2023-03-21 23:24:16,176 : INFO : EPOCH 0 - PROGRESS: at 1.53% examples, 289177 words/s, in_qsize 5, out_qsize 0\n",
      "2023-03-21 23:24:17,179 : INFO : EPOCH 0 - PROGRESS: at 3.57% examples, 331289 words/s, in_qsize 5, out_qsize 0\n",
      "2023-03-21 23:24:18,206 : INFO : EPOCH 0 - PROGRESS: at 5.57% examples, 344900 words/s, in_qsize 5, out_qsize 0\n",
      "2023-03-21 23:24:19,208 : INFO : EPOCH 0 - PROGRESS: at 7.70% examples, 353843 words/s, in_qsize 5, out_qsize 0\n",
      "2023-03-21 23:24:20,218 : INFO : EPOCH 0 - PROGRESS: at 9.70% examples, 358264 words/s, in_qsize 6, out_qsize 0\n",
      "2023-03-21 23:24:21,220 : INFO : EPOCH 0 - PROGRESS: at 11.64% examples, 361645 words/s, in_qsize 5, out_qsize 0\n",
      "2023-03-21 23:24:22,249 : INFO : EPOCH 0 - PROGRESS: at 13.60% examples, 361539 words/s, in_qsize 5, out_qsize 0\n",
      "2023-03-21 23:24:23,274 : INFO : EPOCH 0 - PROGRESS: at 15.61% examples, 360805 words/s, in_qsize 5, out_qsize 0\n",
      "2023-03-21 23:24:24,278 : INFO : EPOCH 0 - PROGRESS: at 17.61% examples, 362536 words/s, in_qsize 5, out_qsize 0\n",
      "2023-03-21 23:24:25,306 : INFO : EPOCH 0 - PROGRESS: at 19.54% examples, 361804 words/s, in_qsize 5, out_qsize 0\n",
      "2023-03-21 23:24:26,327 : INFO : EPOCH 0 - PROGRESS: at 21.32% examples, 358867 words/s, in_qsize 5, out_qsize 0\n",
      "2023-03-21 23:24:27,341 : INFO : EPOCH 0 - PROGRESS: at 23.30% examples, 359050 words/s, in_qsize 5, out_qsize 0\n",
      "2023-03-21 23:24:28,392 : INFO : EPOCH 0 - PROGRESS: at 25.20% examples, 357670 words/s, in_qsize 5, out_qsize 0\n",
      "2023-03-21 23:24:29,408 : INFO : EPOCH 0 - PROGRESS: at 27.29% examples, 359463 words/s, in_qsize 5, out_qsize 0\n",
      "2023-03-21 23:24:30,413 : INFO : EPOCH 0 - PROGRESS: at 29.34% examples, 361214 words/s, in_qsize 5, out_qsize 0\n",
      "2023-03-21 23:24:31,430 : INFO : EPOCH 0 - PROGRESS: at 31.44% examples, 362095 words/s, in_qsize 5, out_qsize 0\n",
      "2023-03-21 23:24:32,448 : INFO : EPOCH 0 - PROGRESS: at 33.54% examples, 363221 words/s, in_qsize 5, out_qsize 0\n",
      "2023-03-21 23:24:33,456 : INFO : EPOCH 0 - PROGRESS: at 35.75% examples, 366033 words/s, in_qsize 5, out_qsize 0\n",
      "2023-03-21 23:24:34,468 : INFO : EPOCH 0 - PROGRESS: at 38.05% examples, 369288 words/s, in_qsize 5, out_qsize 0\n",
      "2023-03-21 23:24:35,469 : INFO : EPOCH 0 - PROGRESS: at 40.33% examples, 371660 words/s, in_qsize 6, out_qsize 0\n",
      "2023-03-21 23:24:36,471 : INFO : EPOCH 0 - PROGRESS: at 42.52% examples, 374174 words/s, in_qsize 5, out_qsize 0\n",
      "2023-03-21 23:24:37,484 : INFO : EPOCH 0 - PROGRESS: at 44.77% examples, 376276 words/s, in_qsize 5, out_qsize 0\n",
      "2023-03-21 23:24:38,495 : INFO : EPOCH 0 - PROGRESS: at 47.06% examples, 377876 words/s, in_qsize 5, out_qsize 0\n",
      "2023-03-21 23:24:39,505 : INFO : EPOCH 0 - PROGRESS: at 49.36% examples, 379647 words/s, in_qsize 5, out_qsize 0\n",
      "2023-03-21 23:24:40,510 : INFO : EPOCH 0 - PROGRESS: at 51.59% examples, 381363 words/s, in_qsize 5, out_qsize 0\n",
      "2023-03-21 23:24:41,543 : INFO : EPOCH 0 - PROGRESS: at 53.82% examples, 381958 words/s, in_qsize 5, out_qsize 0\n",
      "2023-03-21 23:24:42,549 : INFO : EPOCH 0 - PROGRESS: at 56.07% examples, 383497 words/s, in_qsize 5, out_qsize 0\n",
      "2023-03-21 23:24:43,586 : INFO : EPOCH 0 - PROGRESS: at 58.17% examples, 383178 words/s, in_qsize 5, out_qsize 0\n",
      "2023-03-21 23:24:44,604 : INFO : EPOCH 0 - PROGRESS: at 60.18% examples, 383070 words/s, in_qsize 5, out_qsize 0\n",
      "2023-03-21 23:24:45,639 : INFO : EPOCH 0 - PROGRESS: at 62.25% examples, 382829 words/s, in_qsize 4, out_qsize 1\n",
      "2023-03-21 23:24:46,649 : INFO : EPOCH 0 - PROGRESS: at 64.22% examples, 382431 words/s, in_qsize 5, out_qsize 0\n",
      "2023-03-21 23:24:47,661 : INFO : EPOCH 0 - PROGRESS: at 66.24% examples, 382205 words/s, in_qsize 5, out_qsize 0\n",
      "2023-03-21 23:24:48,666 : INFO : EPOCH 0 - PROGRESS: at 68.29% examples, 382337 words/s, in_qsize 5, out_qsize 0\n",
      "2023-03-21 23:24:49,671 : INFO : EPOCH 0 - PROGRESS: at 70.33% examples, 382249 words/s, in_qsize 5, out_qsize 0\n",
      "2023-03-21 23:24:50,686 : INFO : EPOCH 0 - PROGRESS: at 72.43% examples, 382312 words/s, in_qsize 5, out_qsize 0\n",
      "2023-03-21 23:24:51,700 : INFO : EPOCH 0 - PROGRESS: at 74.44% examples, 382093 words/s, in_qsize 5, out_qsize 0\n",
      "2023-03-21 23:24:52,710 : INFO : EPOCH 0 - PROGRESS: at 76.51% examples, 382120 words/s, in_qsize 5, out_qsize 0\n",
      "2023-03-21 23:24:53,718 : INFO : EPOCH 0 - PROGRESS: at 78.86% examples, 383412 words/s, in_qsize 5, out_qsize 0\n",
      "2023-03-21 23:24:54,724 : INFO : EPOCH 0 - PROGRESS: at 81.20% examples, 384584 words/s, in_qsize 5, out_qsize 0\n",
      "2023-03-21 23:24:55,732 : INFO : EPOCH 0 - PROGRESS: at 83.47% examples, 385756 words/s, in_qsize 5, out_qsize 0\n",
      "2023-03-21 23:24:56,757 : INFO : EPOCH 0 - PROGRESS: at 85.67% examples, 386285 words/s, in_qsize 6, out_qsize 0\n",
      "2023-03-21 23:24:57,762 : INFO : EPOCH 0 - PROGRESS: at 87.61% examples, 385962 words/s, in_qsize 4, out_qsize 1\n",
      "2023-03-21 23:24:58,765 : INFO : EPOCH 0 - PROGRESS: at 89.89% examples, 386994 words/s, in_qsize 5, out_qsize 0\n",
      "2023-03-21 23:24:59,769 : INFO : EPOCH 0 - PROGRESS: at 92.21% examples, 388012 words/s, in_qsize 6, out_qsize 0\n",
      "2023-03-21 23:25:00,810 : INFO : EPOCH 0 - PROGRESS: at 94.54% examples, 388654 words/s, in_qsize 5, out_qsize 0\n",
      "2023-03-21 23:25:01,812 : INFO : EPOCH 0 - PROGRESS: at 96.87% examples, 389570 words/s, in_qsize 5, out_qsize 0\n",
      "2023-03-21 23:25:02,816 : INFO : EPOCH 0 - PROGRESS: at 99.16% examples, 390325 words/s, in_qsize 5, out_qsize 0\n",
      "2023-03-21 23:25:03,295 : INFO : EPOCH 0: training on 24693510 raw words (18754054 effective words) took 48.1s, 389707 effective words/s\n",
      "2023-03-21 23:25:04,329 : INFO : EPOCH 1 - PROGRESS: at 1.70% examples, 317987 words/s, in_qsize 6, out_qsize 0\n",
      "2023-03-21 23:25:05,379 : INFO : EPOCH 1 - PROGRESS: at 3.80% examples, 348528 words/s, in_qsize 5, out_qsize 0\n",
      "2023-03-21 23:25:06,399 : INFO : EPOCH 1 - PROGRESS: at 5.93% examples, 359064 words/s, in_qsize 5, out_qsize 0\n",
      "2023-03-21 23:25:07,417 : INFO : EPOCH 1 - PROGRESS: at 7.98% examples, 362627 words/s, in_qsize 5, out_qsize 0\n",
      "2023-03-21 23:25:08,440 : INFO : EPOCH 1 - PROGRESS: at 10.07% examples, 366065 words/s, in_qsize 5, out_qsize 0\n",
      "2023-03-21 23:25:09,453 : INFO : EPOCH 1 - PROGRESS: at 12.09% examples, 368898 words/s, in_qsize 5, out_qsize 0\n",
      "2023-03-21 23:25:10,467 : INFO : EPOCH 1 - PROGRESS: at 14.16% examples, 370830 words/s, in_qsize 5, out_qsize 0\n",
      "2023-03-21 23:25:11,486 : INFO : EPOCH 1 - PROGRESS: at 16.25% examples, 372019 words/s, in_qsize 5, out_qsize 0\n",
      "2023-03-21 23:25:12,510 : INFO : EPOCH 1 - PROGRESS: at 18.33% examples, 373048 words/s, in_qsize 5, out_qsize 0\n",
      "2023-03-21 23:25:13,555 : INFO : EPOCH 1 - PROGRESS: at 20.68% examples, 377904 words/s, in_qsize 5, out_qsize 0\n",
      "2023-03-21 23:25:14,559 : INFO : EPOCH 1 - PROGRESS: at 23.00% examples, 382765 words/s, in_qsize 5, out_qsize 0\n",
      "2023-03-21 23:25:15,569 : INFO : EPOCH 1 - PROGRESS: at 25.30% examples, 385955 words/s, in_qsize 5, out_qsize 0\n",
      "2023-03-21 23:25:16,572 : INFO : EPOCH 1 - PROGRESS: at 27.50% examples, 389348 words/s, in_qsize 5, out_qsize 0\n",
      "2023-03-21 23:25:17,593 : INFO : EPOCH 1 - PROGRESS: at 29.80% examples, 391683 words/s, in_qsize 5, out_qsize 0\n",
      "2023-03-21 23:25:18,600 : INFO : EPOCH 1 - PROGRESS: at 32.12% examples, 394250 words/s, in_qsize 5, out_qsize 0\n",
      "2023-03-21 23:25:19,603 : INFO : EPOCH 1 - PROGRESS: at 34.43% examples, 396986 words/s, in_qsize 5, out_qsize 0\n",
      "2023-03-21 23:25:20,627 : INFO : EPOCH 1 - PROGRESS: at 36.72% examples, 398387 words/s, in_qsize 5, out_qsize 0\n",
      "2023-03-21 23:25:21,636 : INFO : EPOCH 1 - PROGRESS: at 38.95% examples, 400398 words/s, in_qsize 5, out_qsize 0\n",
      "2023-03-21 23:25:22,641 : INFO : EPOCH 1 - PROGRESS: at 41.23% examples, 401620 words/s, in_qsize 5, out_qsize 0\n",
      "2023-03-21 23:25:23,650 : INFO : EPOCH 1 - PROGRESS: at 43.42% examples, 401131 words/s, in_qsize 5, out_qsize 0\n",
      "2023-03-21 23:25:24,659 : INFO : EPOCH 1 - PROGRESS: at 45.47% examples, 400005 words/s, in_qsize 5, out_qsize 0\n",
      "2023-03-21 23:25:25,664 : INFO : EPOCH 1 - PROGRESS: at 47.52% examples, 399390 words/s, in_qsize 5, out_qsize 0\n",
      "2023-03-21 23:25:26,675 : INFO : EPOCH 1 - PROGRESS: at 49.53% examples, 398468 words/s, in_qsize 5, out_qsize 0\n",
      "2023-03-21 23:25:27,688 : INFO : EPOCH 1 - PROGRESS: at 51.63% examples, 397869 words/s, in_qsize 5, out_qsize 0\n",
      "2023-03-21 23:25:28,693 : INFO : EPOCH 1 - PROGRESS: at 53.70% examples, 397381 words/s, in_qsize 5, out_qsize 0\n",
      "2023-03-21 23:25:29,697 : INFO : EPOCH 1 - PROGRESS: at 55.73% examples, 396746 words/s, in_qsize 5, out_qsize 0\n",
      "2023-03-21 23:25:30,701 : INFO : EPOCH 1 - PROGRESS: at 57.81% examples, 396364 words/s, in_qsize 5, out_qsize 0\n",
      "2023-03-21 23:25:31,710 : INFO : EPOCH 1 - PROGRESS: at 59.87% examples, 395941 words/s, in_qsize 5, out_qsize 0\n",
      "2023-03-21 23:25:32,726 : INFO : EPOCH 1 - PROGRESS: at 61.93% examples, 395711 words/s, in_qsize 5, out_qsize 0\n",
      "2023-03-21 23:25:33,738 : INFO : EPOCH 1 - PROGRESS: at 64.27% examples, 396942 words/s, in_qsize 5, out_qsize 0\n",
      "2023-03-21 23:25:34,741 : INFO : EPOCH 1 - PROGRESS: at 66.58% examples, 397789 words/s, in_qsize 5, out_qsize 0\n",
      "2023-03-21 23:25:35,774 : INFO : EPOCH 1 - PROGRESS: at 69.00% examples, 398919 words/s, in_qsize 5, out_qsize 0\n",
      "2023-03-21 23:25:36,778 : INFO : EPOCH 1 - PROGRESS: at 71.05% examples, 398354 words/s, in_qsize 5, out_qsize 0\n",
      "2023-03-21 23:25:37,782 : INFO : EPOCH 1 - PROGRESS: at 73.32% examples, 399085 words/s, in_qsize 5, out_qsize 0\n",
      "2023-03-21 23:25:38,789 : INFO : EPOCH 1 - PROGRESS: at 75.56% examples, 399938 words/s, in_qsize 5, out_qsize 0\n",
      "2023-03-21 23:25:39,816 : INFO : EPOCH 1 - PROGRESS: at 77.93% examples, 400900 words/s, in_qsize 5, out_qsize 0\n",
      "2023-03-21 23:25:40,822 : INFO : EPOCH 1 - PROGRESS: at 80.33% examples, 401677 words/s, in_qsize 5, out_qsize 0\n",
      "2023-03-21 23:25:41,825 : INFO : EPOCH 1 - PROGRESS: at 82.58% examples, 402260 words/s, in_qsize 5, out_qsize 0\n",
      "2023-03-21 23:25:42,828 : INFO : EPOCH 1 - PROGRESS: at 84.95% examples, 403216 words/s, in_qsize 5, out_qsize 0\n",
      "2023-03-21 23:25:43,843 : INFO : EPOCH 1 - PROGRESS: at 86.98% examples, 402316 words/s, in_qsize 5, out_qsize 0\n",
      "2023-03-21 23:25:44,871 : INFO : EPOCH 1 - PROGRESS: at 89.03% examples, 401858 words/s, in_qsize 5, out_qsize 0\n",
      "2023-03-21 23:25:45,892 : INFO : EPOCH 1 - PROGRESS: at 91.04% examples, 401355 words/s, in_qsize 5, out_qsize 0\n",
      "2023-03-21 23:25:46,900 : INFO : EPOCH 1 - PROGRESS: at 93.05% examples, 400797 words/s, in_qsize 5, out_qsize 0\n",
      "2023-03-21 23:25:47,930 : INFO : EPOCH 1 - PROGRESS: at 95.15% examples, 400249 words/s, in_qsize 5, out_qsize 0\n",
      "2023-03-21 23:25:48,957 : INFO : EPOCH 1 - PROGRESS: at 97.20% examples, 399741 words/s, in_qsize 5, out_qsize 0\n",
      "2023-03-21 23:25:50,000 : INFO : EPOCH 1 - PROGRESS: at 99.36% examples, 399145 words/s, in_qsize 6, out_qsize 0\n",
      "2023-03-21 23:25:50,329 : INFO : EPOCH 1: training on 24693510 raw words (18754735 effective words) took 47.0s, 398930 effective words/s\n",
      "2023-03-21 23:25:51,363 : INFO : EPOCH 2 - PROGRESS: at 1.67% examples, 311268 words/s, in_qsize 5, out_qsize 0\n",
      "2023-03-21 23:25:52,388 : INFO : EPOCH 2 - PROGRESS: at 3.66% examples, 337951 words/s, in_qsize 6, out_qsize 0\n",
      "2023-03-21 23:25:53,408 : INFO : EPOCH 2 - PROGRESS: at 5.58% examples, 344949 words/s, in_qsize 5, out_qsize 0\n",
      "2023-03-21 23:25:54,435 : INFO : EPOCH 2 - PROGRESS: at 7.93% examples, 364149 words/s, in_qsize 5, out_qsize 0\n",
      "2023-03-21 23:25:55,438 : INFO : EPOCH 2 - PROGRESS: at 10.22% examples, 374749 words/s, in_qsize 5, out_qsize 0\n",
      "2023-03-21 23:25:56,461 : INFO : EPOCH 2 - PROGRESS: at 12.52% examples, 381655 words/s, in_qsize 5, out_qsize 0\n",
      "2023-03-21 23:25:57,463 : INFO : EPOCH 2 - PROGRESS: at 14.90% examples, 388700 words/s, in_qsize 5, out_qsize 0\n",
      "2023-03-21 23:25:58,466 : INFO : EPOCH 2 - PROGRESS: at 17.16% examples, 393268 words/s, in_qsize 5, out_qsize 0\n",
      "2023-03-21 23:25:59,484 : INFO : EPOCH 2 - PROGRESS: at 19.48% examples, 397410 words/s, in_qsize 5, out_qsize 0\n",
      "2023-03-21 23:26:00,514 : INFO : EPOCH 2 - PROGRESS: at 21.86% examples, 399807 words/s, in_qsize 5, out_qsize 0\n",
      "2023-03-21 23:26:01,522 : INFO : EPOCH 2 - PROGRESS: at 24.08% examples, 401822 words/s, in_qsize 5, out_qsize 0\n",
      "2023-03-21 23:26:02,526 : INFO : EPOCH 2 - PROGRESS: at 26.34% examples, 403633 words/s, in_qsize 5, out_qsize 0\n",
      "2023-03-21 23:26:03,535 : INFO : EPOCH 2 - PROGRESS: at 28.43% examples, 402221 words/s, in_qsize 5, out_qsize 0\n",
      "2023-03-21 23:26:04,549 : INFO : EPOCH 2 - PROGRESS: at 30.49% examples, 400809 words/s, in_qsize 5, out_qsize 0\n",
      "2023-03-21 23:26:05,560 : INFO : EPOCH 2 - PROGRESS: at 32.51% examples, 400182 words/s, in_qsize 5, out_qsize 0\n",
      "2023-03-21 23:26:06,567 : INFO : EPOCH 2 - PROGRESS: at 34.56% examples, 399213 words/s, in_qsize 5, out_qsize 0\n",
      "2023-03-21 23:26:07,581 : INFO : EPOCH 2 - PROGRESS: at 36.60% examples, 398648 words/s, in_qsize 5, out_qsize 0\n",
      "2023-03-21 23:26:08,584 : INFO : EPOCH 2 - PROGRESS: at 38.64% examples, 398251 words/s, in_qsize 5, out_qsize 0\n",
      "2023-03-21 23:26:09,614 : INFO : EPOCH 2 - PROGRESS: at 40.65% examples, 397490 words/s, in_qsize 5, out_qsize 0\n",
      "2023-03-21 23:26:10,615 : INFO : EPOCH 2 - PROGRESS: at 42.44% examples, 394642 words/s, in_qsize 5, out_qsize 0\n",
      "2023-03-21 23:26:11,625 : INFO : EPOCH 2 - PROGRESS: at 44.52% examples, 393707 words/s, in_qsize 5, out_qsize 0\n",
      "2023-03-21 23:26:12,657 : INFO : EPOCH 2 - PROGRESS: at 46.59% examples, 392968 words/s, in_qsize 5, out_qsize 0\n",
      "2023-03-21 23:26:13,670 : INFO : EPOCH 2 - PROGRESS: at 48.89% examples, 394412 words/s, in_qsize 5, out_qsize 0\n",
      "2023-03-21 23:26:14,703 : INFO : EPOCH 2 - PROGRESS: at 51.17% examples, 395758 words/s, in_qsize 5, out_qsize 0\n",
      "2023-03-21 23:26:15,711 : INFO : EPOCH 2 - PROGRESS: at 53.42% examples, 396735 words/s, in_qsize 5, out_qsize 0\n",
      "2023-03-21 23:26:16,744 : INFO : EPOCH 2 - PROGRESS: at 55.72% examples, 397678 words/s, in_qsize 5, out_qsize 0\n",
      "2023-03-21 23:26:17,752 : INFO : EPOCH 2 - PROGRESS: at 58.04% examples, 398633 words/s, in_qsize 6, out_qsize 0\n",
      "2023-03-21 23:26:18,753 : INFO : EPOCH 2 - PROGRESS: at 60.35% examples, 399485 words/s, in_qsize 6, out_qsize 0\n",
      "2023-03-21 23:26:19,765 : INFO : EPOCH 2 - PROGRESS: at 62.71% examples, 400192 words/s, in_qsize 5, out_qsize 0\n",
      "2023-03-21 23:26:20,783 : INFO : EPOCH 2 - PROGRESS: at 65.05% examples, 400830 words/s, in_qsize 5, out_qsize 0\n",
      "2023-03-21 23:26:21,784 : INFO : EPOCH 2 - PROGRESS: at 67.32% examples, 401614 words/s, in_qsize 5, out_qsize 0\n",
      "2023-03-21 23:26:22,788 : INFO : EPOCH 2 - PROGRESS: at 69.54% examples, 402051 words/s, in_qsize 5, out_qsize 0\n",
      "2023-03-21 23:26:23,794 : INFO : EPOCH 2 - PROGRESS: at 71.56% examples, 401381 words/s, in_qsize 6, out_qsize 0\n",
      "2023-03-21 23:26:24,813 : INFO : EPOCH 2 - PROGRESS: at 73.59% examples, 400781 words/s, in_qsize 5, out_qsize 0\n",
      "2023-03-21 23:26:25,814 : INFO : EPOCH 2 - PROGRESS: at 75.63% examples, 400334 words/s, in_qsize 5, out_qsize 0\n",
      "2023-03-21 23:26:26,820 : INFO : EPOCH 2 - PROGRESS: at 77.75% examples, 399919 words/s, in_qsize 5, out_qsize 0\n",
      "2023-03-21 23:26:27,820 : INFO : EPOCH 2 - PROGRESS: at 79.79% examples, 399584 words/s, in_qsize 5, out_qsize 0\n",
      "2023-03-21 23:26:28,828 : INFO : EPOCH 2 - PROGRESS: at 81.87% examples, 399232 words/s, in_qsize 5, out_qsize 0\n",
      "2023-03-21 23:26:29,835 : INFO : EPOCH 2 - PROGRESS: at 83.95% examples, 398715 words/s, in_qsize 5, out_qsize 0\n",
      "2023-03-21 23:26:30,837 : INFO : EPOCH 2 - PROGRESS: at 86.01% examples, 398279 words/s, in_qsize 5, out_qsize 0\n",
      "2023-03-21 23:26:31,844 : INFO : EPOCH 2 - PROGRESS: at 88.09% examples, 397991 words/s, in_qsize 5, out_qsize 0\n",
      "2023-03-21 23:26:32,852 : INFO : EPOCH 2 - PROGRESS: at 90.14% examples, 397814 words/s, in_qsize 5, out_qsize 0\n",
      "2023-03-21 23:26:33,858 : INFO : EPOCH 2 - PROGRESS: at 92.48% examples, 398571 words/s, in_qsize 5, out_qsize 0\n",
      "2023-03-21 23:26:34,875 : INFO : EPOCH 2 - PROGRESS: at 94.74% examples, 399197 words/s, in_qsize 5, out_qsize 0\n",
      "2023-03-21 23:26:35,898 : INFO : EPOCH 2 - PROGRESS: at 97.07% examples, 399903 words/s, in_qsize 5, out_qsize 0\n",
      "2023-03-21 23:26:36,910 : INFO : EPOCH 2 - PROGRESS: at 99.43% examples, 400498 words/s, in_qsize 6, out_qsize 0\n",
      "2023-03-21 23:26:37,168 : INFO : EPOCH 2: training on 24693510 raw words (18754422 effective words) took 46.8s, 400614 effective words/s\n",
      "2023-03-21 23:26:38,194 : INFO : EPOCH 3 - PROGRESS: at 1.99% examples, 375825 words/s, in_qsize 5, out_qsize 0\n",
      "2023-03-21 23:26:39,216 : INFO : EPOCH 3 - PROGRESS: at 4.35% examples, 399488 words/s, in_qsize 5, out_qsize 0\n",
      "2023-03-21 23:26:40,231 : INFO : EPOCH 3 - PROGRESS: at 6.69% examples, 411545 words/s, in_qsize 5, out_qsize 0\n",
      "2023-03-21 23:26:41,249 : INFO : EPOCH 3 - PROGRESS: at 9.03% examples, 416564 words/s, in_qsize 5, out_qsize 0\n",
      "2023-03-21 23:26:42,271 : INFO : EPOCH 3 - PROGRESS: at 11.37% examples, 418024 words/s, in_qsize 5, out_qsize 0\n",
      "2023-03-21 23:26:43,280 : INFO : EPOCH 3 - PROGRESS: at 13.37% examples, 408894 words/s, in_qsize 6, out_qsize 0\n",
      "2023-03-21 23:26:44,286 : INFO : EPOCH 3 - PROGRESS: at 15.44% examples, 405670 words/s, in_qsize 5, out_qsize 0\n",
      "2023-03-21 23:26:45,289 : INFO : EPOCH 3 - PROGRESS: at 17.47% examples, 403404 words/s, in_qsize 6, out_qsize 0\n",
      "2023-03-21 23:26:46,293 : INFO : EPOCH 3 - PROGRESS: at 19.49% examples, 399943 words/s, in_qsize 5, out_qsize 0\n",
      "2023-03-21 23:26:47,310 : INFO : EPOCH 3 - PROGRESS: at 21.56% examples, 398849 words/s, in_qsize 6, out_qsize 1\n",
      "2023-03-21 23:26:48,312 : INFO : EPOCH 3 - PROGRESS: at 23.62% examples, 397748 words/s, in_qsize 5, out_qsize 0\n",
      "2023-03-21 23:26:49,323 : INFO : EPOCH 3 - PROGRESS: at 25.67% examples, 396481 words/s, in_qsize 5, out_qsize 0\n",
      "2023-03-21 23:26:50,330 : INFO : EPOCH 3 - PROGRESS: at 27.71% examples, 395578 words/s, in_qsize 5, out_qsize 0\n",
      "2023-03-21 23:26:51,342 : INFO : EPOCH 3 - PROGRESS: at 29.79% examples, 394789 words/s, in_qsize 5, out_qsize 0\n",
      "2023-03-21 23:26:52,402 : INFO : EPOCH 3 - PROGRESS: at 31.86% examples, 393238 words/s, in_qsize 5, out_qsize 0\n",
      "2023-03-21 23:26:53,426 : INFO : EPOCH 3 - PROGRESS: at 34.06% examples, 394166 words/s, in_qsize 5, out_qsize 0\n",
      "2023-03-21 23:26:54,455 : INFO : EPOCH 3 - PROGRESS: at 36.28% examples, 395310 words/s, in_qsize 5, out_qsize 0\n",
      "2023-03-21 23:26:55,468 : INFO : EPOCH 3 - PROGRESS: at 38.61% examples, 397162 words/s, in_qsize 5, out_qsize 0\n",
      "2023-03-21 23:26:56,472 : INFO : EPOCH 3 - PROGRESS: at 40.90% examples, 398556 words/s, in_qsize 5, out_qsize 0\n",
      "2023-03-21 23:26:57,475 : INFO : EPOCH 3 - PROGRESS: at 43.19% examples, 400164 words/s, in_qsize 5, out_qsize 0\n",
      "2023-03-21 23:26:58,485 : INFO : EPOCH 3 - PROGRESS: at 45.42% examples, 401149 words/s, in_qsize 5, out_qsize 0\n",
      "2023-03-21 23:26:59,500 : INFO : EPOCH 3 - PROGRESS: at 47.79% examples, 402487 words/s, in_qsize 5, out_qsize 0\n",
      "2023-03-21 23:27:00,523 : INFO : EPOCH 3 - PROGRESS: at 50.10% examples, 402789 words/s, in_qsize 5, out_qsize 0\n",
      "2023-03-21 23:27:01,542 : INFO : EPOCH 3 - PROGRESS: at 52.44% examples, 403783 words/s, in_qsize 5, out_qsize 0\n",
      "2023-03-21 23:27:02,552 : INFO : EPOCH 3 - PROGRESS: at 54.75% examples, 404454 words/s, in_qsize 5, out_qsize 0\n",
      "2023-03-21 23:27:03,580 : INFO : EPOCH 3 - PROGRESS: at 56.79% examples, 403072 words/s, in_qsize 5, out_qsize 0\n",
      "2023-03-21 23:27:04,587 : INFO : EPOCH 3 - PROGRESS: at 58.86% examples, 402430 words/s, in_qsize 5, out_qsize 0\n",
      "2023-03-21 23:27:05,590 : INFO : EPOCH 3 - PROGRESS: at 60.94% examples, 401926 words/s, in_qsize 5, out_qsize 0\n",
      "2023-03-21 23:27:06,602 : INFO : EPOCH 3 - PROGRESS: at 63.06% examples, 401364 words/s, in_qsize 5, out_qsize 0\n",
      "2023-03-21 23:27:07,604 : INFO : EPOCH 3 - PROGRESS: at 65.02% examples, 400411 words/s, in_qsize 5, out_qsize 0\n",
      "2023-03-21 23:27:08,615 : INFO : EPOCH 3 - PROGRESS: at 67.12% examples, 399893 words/s, in_qsize 5, out_qsize 0\n",
      "2023-03-21 23:27:09,640 : INFO : EPOCH 3 - PROGRESS: at 69.19% examples, 399412 words/s, in_qsize 5, out_qsize 0\n",
      "2023-03-21 23:27:10,659 : INFO : EPOCH 3 - PROGRESS: at 71.26% examples, 398844 words/s, in_qsize 5, out_qsize 0\n",
      "2023-03-21 23:27:11,691 : INFO : EPOCH 3 - PROGRESS: at 73.45% examples, 398605 words/s, in_qsize 5, out_qsize 0\n",
      "2023-03-21 23:27:12,708 : INFO : EPOCH 3 - PROGRESS: at 75.59% examples, 398122 words/s, in_qsize 5, out_qsize 0\n",
      "2023-03-21 23:27:13,710 : INFO : EPOCH 3 - PROGRESS: at 77.87% examples, 399031 words/s, in_qsize 5, out_qsize 0\n",
      "2023-03-21 23:27:14,714 : INFO : EPOCH 3 - PROGRESS: at 80.23% examples, 399910 words/s, in_qsize 5, out_qsize 0\n",
      "2023-03-21 23:27:15,788 : INFO : EPOCH 3 - PROGRESS: at 82.48% examples, 400177 words/s, in_qsize 5, out_qsize 0\n",
      "2023-03-21 23:27:16,803 : INFO : EPOCH 3 - PROGRESS: at 84.42% examples, 399143 words/s, in_qsize 5, out_qsize 0\n",
      "2023-03-21 23:27:17,806 : INFO : EPOCH 3 - PROGRESS: at 86.74% examples, 400136 words/s, in_qsize 5, out_qsize 0\n",
      "2023-03-21 23:27:18,817 : INFO : EPOCH 3 - PROGRESS: at 89.00% examples, 400612 words/s, in_qsize 5, out_qsize 0\n",
      "2023-03-21 23:27:19,823 : INFO : EPOCH 3 - PROGRESS: at 91.35% examples, 401345 words/s, in_qsize 5, out_qsize 0\n",
      "2023-03-21 23:27:20,857 : INFO : EPOCH 3 - PROGRESS: at 93.29% examples, 400558 words/s, in_qsize 5, out_qsize 0\n",
      "2023-03-21 23:27:21,862 : INFO : EPOCH 3 - PROGRESS: at 95.26% examples, 399749 words/s, in_qsize 5, out_qsize 0\n",
      "2023-03-21 23:27:22,881 : INFO : EPOCH 3 - PROGRESS: at 97.49% examples, 400015 words/s, in_qsize 5, out_qsize 0\n",
      "2023-03-21 23:27:23,900 : INFO : EPOCH 3 - PROGRESS: at 99.79% examples, 400589 words/s, in_qsize 5, out_qsize 0\n",
      "2023-03-21 23:27:23,993 : INFO : EPOCH 3: training on 24693510 raw words (18756445 effective words) took 46.8s, 400694 effective words/s\n",
      "2023-03-21 23:27:25,011 : INFO : EPOCH 4 - PROGRESS: at 1.98% examples, 365407 words/s, in_qsize 5, out_qsize 0\n",
      "2023-03-21 23:27:26,019 : INFO : EPOCH 4 - PROGRESS: at 4.31% examples, 396897 words/s, in_qsize 5, out_qsize 0\n",
      "2023-03-21 23:27:27,020 : INFO : EPOCH 4 - PROGRESS: at 6.51% examples, 406167 words/s, in_qsize 5, out_qsize 0\n",
      "2023-03-21 23:27:28,033 : INFO : EPOCH 4 - PROGRESS: at 8.70% examples, 409379 words/s, in_qsize 5, out_qsize 0\n",
      "2023-03-21 23:27:29,033 : INFO : EPOCH 4 - PROGRESS: at 10.88% examples, 412604 words/s, in_qsize 5, out_qsize 0\n",
      "2023-03-21 23:27:30,079 : INFO : EPOCH 4 - PROGRESS: at 13.21% examples, 415213 words/s, in_qsize 5, out_qsize 0\n",
      "2023-03-21 23:27:31,097 : INFO : EPOCH 4 - PROGRESS: at 15.54% examples, 417635 words/s, in_qsize 5, out_qsize 0\n",
      "2023-03-21 23:27:32,114 : INFO : EPOCH 4 - PROGRESS: at 17.88% examples, 418819 words/s, in_qsize 5, out_qsize 0\n",
      "2023-03-21 23:27:33,116 : INFO : EPOCH 4 - PROGRESS: at 20.11% examples, 418610 words/s, in_qsize 5, out_qsize 0\n",
      "2023-03-21 23:27:34,118 : INFO : EPOCH 4 - PROGRESS: at 22.26% examples, 415721 words/s, in_qsize 5, out_qsize 0\n",
      "2023-03-21 23:27:35,131 : INFO : EPOCH 4 - PROGRESS: at 24.36% examples, 413416 words/s, in_qsize 5, out_qsize 0\n",
      "2023-03-21 23:27:36,183 : INFO : EPOCH 4 - PROGRESS: at 26.48% examples, 410180 words/s, in_qsize 4, out_qsize 1\n",
      "2023-03-21 23:27:37,223 : INFO : EPOCH 4 - PROGRESS: at 28.54% examples, 406796 words/s, in_qsize 5, out_qsize 0\n",
      "2023-03-21 23:27:38,226 : INFO : EPOCH 4 - PROGRESS: at 30.41% examples, 403302 words/s, in_qsize 5, out_qsize 0\n",
      "2023-03-21 23:27:39,244 : INFO : EPOCH 4 - PROGRESS: at 32.48% examples, 401845 words/s, in_qsize 5, out_qsize 0\n",
      "2023-03-21 23:27:40,248 : INFO : EPOCH 4 - PROGRESS: at 34.62% examples, 401364 words/s, in_qsize 5, out_qsize 0\n",
      "2023-03-21 23:27:41,248 : INFO : EPOCH 4 - PROGRESS: at 36.70% examples, 400261 words/s, in_qsize 5, out_qsize 0\n",
      "2023-03-21 23:27:42,262 : INFO : EPOCH 4 - PROGRESS: at 38.75% examples, 399286 words/s, in_qsize 5, out_qsize 0\n",
      "2023-03-21 23:27:43,280 : INFO : EPOCH 4 - PROGRESS: at 41.03% examples, 399879 words/s, in_qsize 5, out_qsize 0\n",
      "2023-03-21 23:27:44,283 : INFO : EPOCH 4 - PROGRESS: at 43.27% examples, 401464 words/s, in_qsize 5, out_qsize 0\n",
      "2023-03-21 23:27:45,291 : INFO : EPOCH 4 - PROGRESS: at 45.60% examples, 403146 words/s, in_qsize 5, out_qsize 0\n",
      "2023-03-21 23:27:46,324 : INFO : EPOCH 4 - PROGRESS: at 47.97% examples, 404254 words/s, in_qsize 5, out_qsize 0\n",
      "2023-03-21 23:27:47,324 : INFO : EPOCH 4 - PROGRESS: at 50.26% examples, 405180 words/s, in_qsize 5, out_qsize 0\n",
      "2023-03-21 23:27:48,347 : INFO : EPOCH 4 - PROGRESS: at 52.34% examples, 404095 words/s, in_qsize 5, out_qsize 0\n",
      "2023-03-21 23:27:49,358 : INFO : EPOCH 4 - PROGRESS: at 54.58% examples, 404471 words/s, in_qsize 5, out_qsize 0\n",
      "2023-03-21 23:27:50,361 : INFO : EPOCH 4 - PROGRESS: at 56.83% examples, 405530 words/s, in_qsize 5, out_qsize 0\n",
      "2023-03-21 23:27:51,369 : INFO : EPOCH 4 - PROGRESS: at 59.21% examples, 406373 words/s, in_qsize 5, out_qsize 0\n",
      "2023-03-21 23:27:52,369 : INFO : EPOCH 4 - PROGRESS: at 61.53% examples, 407335 words/s, in_qsize 5, out_qsize 0\n",
      "2023-03-21 23:27:53,380 : INFO : EPOCH 4 - PROGRESS: at 63.70% examples, 406743 words/s, in_qsize 5, out_qsize 0\n",
      "2023-03-21 23:27:54,386 : INFO : EPOCH 4 - PROGRESS: at 65.83% examples, 406127 words/s, in_qsize 5, out_qsize 0\n",
      "2023-03-21 23:27:55,402 : INFO : EPOCH 4 - PROGRESS: at 67.89% examples, 405481 words/s, in_qsize 5, out_qsize 0\n",
      "2023-03-21 23:27:56,431 : INFO : EPOCH 4 - PROGRESS: at 69.97% examples, 404550 words/s, in_qsize 5, out_qsize 0\n",
      "2023-03-21 23:27:57,439 : INFO : EPOCH 4 - PROGRESS: at 72.00% examples, 403948 words/s, in_qsize 5, out_qsize 0\n",
      "2023-03-21 23:27:58,458 : INFO : EPOCH 4 - PROGRESS: at 74.08% examples, 403435 words/s, in_qsize 5, out_qsize 0\n",
      "2023-03-21 23:27:59,492 : INFO : EPOCH 4 - PROGRESS: at 76.16% examples, 402788 words/s, in_qsize 5, out_qsize 0\n",
      "2023-03-21 23:28:00,521 : INFO : EPOCH 4 - PROGRESS: at 78.24% examples, 402119 words/s, in_qsize 5, out_qsize 0\n",
      "2023-03-21 23:28:01,556 : INFO : EPOCH 4 - PROGRESS: at 80.34% examples, 401378 words/s, in_qsize 5, out_qsize 0\n",
      "2023-03-21 23:28:02,617 : INFO : EPOCH 4 - PROGRESS: at 82.45% examples, 400408 words/s, in_qsize 5, out_qsize 0\n",
      "2023-03-21 23:28:03,626 : INFO : EPOCH 4 - PROGRESS: at 84.54% examples, 400054 words/s, in_qsize 5, out_qsize 0\n",
      "2023-03-21 23:28:04,632 : INFO : EPOCH 4 - PROGRESS: at 86.74% examples, 400809 words/s, in_qsize 6, out_qsize 0\n",
      "2023-03-21 23:28:05,648 : INFO : EPOCH 4 - PROGRESS: at 89.04% examples, 401431 words/s, in_qsize 5, out_qsize 0\n",
      "2023-03-21 23:28:06,650 : INFO : EPOCH 4 - PROGRESS: at 91.40% examples, 402017 words/s, in_qsize 5, out_qsize 0\n",
      "2023-03-21 23:28:07,652 : INFO : EPOCH 4 - PROGRESS: at 93.63% examples, 402527 words/s, in_qsize 5, out_qsize 0\n",
      "2023-03-21 23:28:08,669 : INFO : EPOCH 4 - PROGRESS: at 95.89% examples, 402915 words/s, in_qsize 5, out_qsize 0\n",
      "2023-03-21 23:28:09,698 : INFO : EPOCH 4 - PROGRESS: at 98.24% examples, 403327 words/s, in_qsize 5, out_qsize 0\n",
      "2023-03-21 23:28:10,443 : INFO : EPOCH 4: training on 24693510 raw words (18753624 effective words) took 46.4s, 403851 effective words/s\n",
      "2023-03-21 23:28:11,470 : INFO : EPOCH 5 - PROGRESS: at 1.97% examples, 376938 words/s, in_qsize 5, out_qsize 0\n",
      "2023-03-21 23:28:12,487 : INFO : EPOCH 5 - PROGRESS: at 4.25% examples, 400123 words/s, in_qsize 5, out_qsize 0\n",
      "2023-03-21 23:28:13,488 : INFO : EPOCH 5 - PROGRESS: at 6.34% examples, 396274 words/s, in_qsize 5, out_qsize 0\n",
      "2023-03-21 23:28:14,517 : INFO : EPOCH 5 - PROGRESS: at 8.46% examples, 393663 words/s, in_qsize 5, out_qsize 0\n",
      "2023-03-21 23:28:15,535 : INFO : EPOCH 5 - PROGRESS: at 10.45% examples, 391030 words/s, in_qsize 5, out_qsize 0\n",
      "2023-03-21 23:28:16,558 : INFO : EPOCH 5 - PROGRESS: at 12.48% examples, 387998 words/s, in_qsize 5, out_qsize 0\n",
      "2023-03-21 23:28:17,566 : INFO : EPOCH 5 - PROGRESS: at 14.31% examples, 380361 words/s, in_qsize 5, out_qsize 0\n",
      "2023-03-21 23:28:18,568 : INFO : EPOCH 5 - PROGRESS: at 16.42% examples, 382269 words/s, in_qsize 5, out_qsize 0\n",
      "2023-03-21 23:28:19,580 : INFO : EPOCH 5 - PROGRESS: at 18.54% examples, 383974 words/s, in_qsize 5, out_qsize 0\n",
      "2023-03-21 23:28:20,597 : INFO : EPOCH 5 - PROGRESS: at 20.62% examples, 384973 words/s, in_qsize 5, out_qsize 0\n",
      "2023-03-21 23:28:21,607 : INFO : EPOCH 5 - PROGRESS: at 22.61% examples, 382896 words/s, in_qsize 5, out_qsize 0\n",
      "2023-03-21 23:28:22,625 : INFO : EPOCH 5 - PROGRESS: at 24.68% examples, 382279 words/s, in_qsize 5, out_qsize 0\n",
      "2023-03-21 23:28:23,626 : INFO : EPOCH 5 - PROGRESS: at 26.99% examples, 385960 words/s, in_qsize 5, out_qsize 0\n",
      "2023-03-21 23:28:24,644 : INFO : EPOCH 5 - PROGRESS: at 29.32% examples, 388715 words/s, in_qsize 5, out_qsize 0\n",
      "2023-03-21 23:28:25,673 : INFO : EPOCH 5 - PROGRESS: at 31.70% examples, 390942 words/s, in_qsize 5, out_qsize 0\n",
      "2023-03-21 23:28:26,683 : INFO : EPOCH 5 - PROGRESS: at 34.04% examples, 393677 words/s, in_qsize 5, out_qsize 0\n",
      "2023-03-21 23:28:27,695 : INFO : EPOCH 5 - PROGRESS: at 36.31% examples, 395232 words/s, in_qsize 5, out_qsize 0\n",
      "2023-03-21 23:28:28,712 : INFO : EPOCH 5 - PROGRESS: at 38.68% examples, 396937 words/s, in_qsize 5, out_qsize 0\n",
      "2023-03-21 23:28:29,734 : INFO : EPOCH 5 - PROGRESS: at 40.97% examples, 398331 words/s, in_qsize 5, out_qsize 0\n",
      "2023-03-21 23:28:30,740 : INFO : EPOCH 5 - PROGRESS: at 43.18% examples, 399540 words/s, in_qsize 5, out_qsize 0\n",
      "2023-03-21 23:28:31,747 : INFO : EPOCH 5 - PROGRESS: at 45.45% examples, 400998 words/s, in_qsize 5, out_qsize 0\n",
      "2023-03-21 23:28:32,748 : INFO : EPOCH 5 - PROGRESS: at 47.77% examples, 402145 words/s, in_qsize 5, out_qsize 0\n",
      "2023-03-21 23:28:33,749 : INFO : EPOCH 5 - PROGRESS: at 49.92% examples, 401531 words/s, in_qsize 5, out_qsize 0\n",
      "2023-03-21 23:28:34,770 : INFO : EPOCH 5 - PROGRESS: at 51.94% examples, 400607 words/s, in_qsize 5, out_qsize 0\n",
      "2023-03-21 23:28:35,782 : INFO : EPOCH 5 - PROGRESS: at 54.01% examples, 399932 words/s, in_qsize 5, out_qsize 0\n",
      "2023-03-21 23:28:36,810 : INFO : EPOCH 5 - PROGRESS: at 56.01% examples, 398977 words/s, in_qsize 5, out_qsize 0\n",
      "2023-03-21 23:28:37,834 : INFO : EPOCH 5 - PROGRESS: at 57.86% examples, 396863 words/s, in_qsize 5, out_qsize 0\n",
      "2023-03-21 23:28:38,835 : INFO : EPOCH 5 - PROGRESS: at 59.65% examples, 395022 words/s, in_qsize 6, out_qsize 0\n",
      "2023-03-21 23:28:39,876 : INFO : EPOCH 5 - PROGRESS: at 61.41% examples, 391988 words/s, in_qsize 5, out_qsize 0\n",
      "2023-03-21 23:28:40,891 : INFO : EPOCH 5 - PROGRESS: at 62.97% examples, 388726 words/s, in_qsize 5, out_qsize 0\n",
      "2023-03-21 23:28:41,941 : INFO : EPOCH 5 - PROGRESS: at 64.51% examples, 384955 words/s, in_qsize 5, out_qsize 0\n",
      "2023-03-21 23:28:42,972 : INFO : EPOCH 5 - PROGRESS: at 66.11% examples, 381714 words/s, in_qsize 6, out_qsize 1\n",
      "2023-03-21 23:28:44,008 : INFO : EPOCH 5 - PROGRESS: at 67.82% examples, 379258 words/s, in_qsize 5, out_qsize 0\n",
      "2023-03-21 23:28:45,019 : INFO : EPOCH 5 - PROGRESS: at 69.66% examples, 377878 words/s, in_qsize 5, out_qsize 0\n",
      "2023-03-21 23:28:46,044 : INFO : EPOCH 5 - PROGRESS: at 71.48% examples, 376244 words/s, in_qsize 5, out_qsize 0\n",
      "2023-03-21 23:28:47,076 : INFO : EPOCH 5 - PROGRESS: at 73.27% examples, 374839 words/s, in_qsize 5, out_qsize 0\n",
      "2023-03-21 23:28:48,107 : INFO : EPOCH 5 - PROGRESS: at 74.93% examples, 372911 words/s, in_qsize 5, out_qsize 0\n",
      "2023-03-21 23:28:49,110 : INFO : EPOCH 5 - PROGRESS: at 76.74% examples, 372138 words/s, in_qsize 5, out_qsize 0\n",
      "2023-03-21 23:28:50,126 : INFO : EPOCH 5 - PROGRESS: at 78.66% examples, 371493 words/s, in_qsize 5, out_qsize 0\n",
      "2023-03-21 23:28:51,136 : INFO : EPOCH 5 - PROGRESS: at 80.53% examples, 370915 words/s, in_qsize 5, out_qsize 0\n",
      "2023-03-21 23:28:52,145 : INFO : EPOCH 5 - PROGRESS: at 82.54% examples, 370886 words/s, in_qsize 5, out_qsize 0\n",
      "2023-03-21 23:28:53,154 : INFO : EPOCH 5 - PROGRESS: at 84.38% examples, 370629 words/s, in_qsize 5, out_qsize 0\n",
      "2023-03-21 23:28:54,199 : INFO : EPOCH 5 - PROGRESS: at 86.42% examples, 370465 words/s, in_qsize 4, out_qsize 1\n",
      "2023-03-21 23:28:55,204 : INFO : EPOCH 5 - PROGRESS: at 88.37% examples, 370491 words/s, in_qsize 5, out_qsize 0\n",
      "2023-03-21 23:28:56,215 : INFO : EPOCH 5 - PROGRESS: at 90.31% examples, 370119 words/s, in_qsize 5, out_qsize 0\n",
      "2023-03-21 23:28:57,269 : INFO : EPOCH 5 - PROGRESS: at 92.17% examples, 369245 words/s, in_qsize 5, out_qsize 0\n",
      "2023-03-21 23:28:58,271 : INFO : EPOCH 5 - PROGRESS: at 94.19% examples, 369309 words/s, in_qsize 5, out_qsize 0\n",
      "2023-03-21 23:28:59,277 : INFO : EPOCH 5 - PROGRESS: at 96.14% examples, 369367 words/s, in_qsize 5, out_qsize 0\n",
      "2023-03-21 23:29:00,311 : INFO : EPOCH 5 - PROGRESS: at 98.06% examples, 368896 words/s, in_qsize 4, out_qsize 1\n",
      "2023-03-21 23:29:01,346 : INFO : EPOCH 5 - PROGRESS: at 99.97% examples, 368419 words/s, in_qsize 1, out_qsize 1\n",
      "2023-03-21 23:29:01,352 : INFO : EPOCH 5: training on 24693510 raw words (18753792 effective words) took 50.9s, 368523 effective words/s\n",
      "2023-03-21 23:29:02,411 : INFO : EPOCH 6 - PROGRESS: at 1.49% examples, 264740 words/s, in_qsize 4, out_qsize 1\n",
      "2023-03-21 23:29:03,414 : INFO : EPOCH 6 - PROGRESS: at 3.35% examples, 306430 words/s, in_qsize 6, out_qsize 0\n",
      "2023-03-21 23:29:04,423 : INFO : EPOCH 6 - PROGRESS: at 5.13% examples, 317591 words/s, in_qsize 5, out_qsize 0\n",
      "2023-03-21 23:29:05,429 : INFO : EPOCH 6 - PROGRESS: at 6.92% examples, 320147 words/s, in_qsize 5, out_qsize 0\n",
      "2023-03-21 23:29:06,457 : INFO : EPOCH 6 - PROGRESS: at 8.73% examples, 322939 words/s, in_qsize 5, out_qsize 0\n",
      "2023-03-21 23:29:07,463 : INFO : EPOCH 6 - PROGRESS: at 10.60% examples, 327934 words/s, in_qsize 5, out_qsize 0\n",
      "2023-03-21 23:29:08,495 : INFO : EPOCH 6 - PROGRESS: at 12.52% examples, 330683 words/s, in_qsize 5, out_qsize 0\n",
      "2023-03-21 23:29:09,524 : INFO : EPOCH 6 - PROGRESS: at 14.41% examples, 332885 words/s, in_qsize 5, out_qsize 0\n",
      "2023-03-21 23:29:10,533 : INFO : EPOCH 6 - PROGRESS: at 16.26% examples, 334681 words/s, in_qsize 5, out_qsize 0\n",
      "2023-03-21 23:29:11,545 : INFO : EPOCH 6 - PROGRESS: at 18.12% examples, 335240 words/s, in_qsize 5, out_qsize 0\n",
      "2023-03-21 23:29:12,551 : INFO : EPOCH 6 - PROGRESS: at 19.81% examples, 333689 words/s, in_qsize 5, out_qsize 0\n",
      "2023-03-21 23:29:13,565 : INFO : EPOCH 6 - PROGRESS: at 21.44% examples, 331042 words/s, in_qsize 5, out_qsize 0\n",
      "2023-03-21 23:29:14,595 : INFO : EPOCH 6 - PROGRESS: at 22.85% examples, 325597 words/s, in_qsize 6, out_qsize 0\n",
      "2023-03-21 23:29:15,619 : INFO : EPOCH 6 - PROGRESS: at 24.17% examples, 319518 words/s, in_qsize 6, out_qsize 0\n",
      "2023-03-21 23:29:16,645 : INFO : EPOCH 6 - PROGRESS: at 25.86% examples, 318102 words/s, in_qsize 5, out_qsize 0\n",
      "2023-03-21 23:29:17,656 : INFO : EPOCH 6 - PROGRESS: at 27.41% examples, 316562 words/s, in_qsize 6, out_qsize 0\n",
      "2023-03-21 23:29:18,667 : INFO : EPOCH 6 - PROGRESS: at 29.21% examples, 317513 words/s, in_qsize 5, out_qsize 0\n",
      "2023-03-21 23:29:19,667 : INFO : EPOCH 6 - PROGRESS: at 30.96% examples, 318562 words/s, in_qsize 5, out_qsize 0\n",
      "2023-03-21 23:29:20,670 : INFO : EPOCH 6 - PROGRESS: at 32.77% examples, 319376 words/s, in_qsize 5, out_qsize 0\n",
      "2023-03-21 23:29:21,673 : INFO : EPOCH 6 - PROGRESS: at 34.49% examples, 319395 words/s, in_qsize 6, out_qsize 0\n",
      "2023-03-21 23:29:22,723 : INFO : EPOCH 6 - PROGRESS: at 36.31% examples, 320111 words/s, in_qsize 5, out_qsize 0\n",
      "2023-03-21 23:29:23,739 : INFO : EPOCH 6 - PROGRESS: at 38.08% examples, 320569 words/s, in_qsize 5, out_qsize 0\n",
      "2023-03-21 23:29:24,761 : INFO : EPOCH 6 - PROGRESS: at 39.89% examples, 320965 words/s, in_qsize 5, out_qsize 0\n",
      "2023-03-21 23:29:25,770 : INFO : EPOCH 6 - PROGRESS: at 41.61% examples, 320842 words/s, in_qsize 5, out_qsize 0\n",
      "2023-03-21 23:29:26,791 : INFO : EPOCH 6 - PROGRESS: at 43.25% examples, 320287 words/s, in_qsize 5, out_qsize 0\n",
      "2023-03-21 23:29:27,807 : INFO : EPOCH 6 - PROGRESS: at 44.92% examples, 319550 words/s, in_qsize 6, out_qsize 1\n",
      "2023-03-21 23:29:28,811 : INFO : EPOCH 6 - PROGRESS: at 46.46% examples, 319003 words/s, in_qsize 5, out_qsize 0\n",
      "2023-03-21 23:29:29,812 : INFO : EPOCH 6 - PROGRESS: at 48.01% examples, 317809 words/s, in_qsize 5, out_qsize 0\n",
      "2023-03-21 23:29:30,815 : INFO : EPOCH 6 - PROGRESS: at 49.63% examples, 317120 words/s, in_qsize 5, out_qsize 0\n",
      "2023-03-21 23:29:31,823 : INFO : EPOCH 6 - PROGRESS: at 51.38% examples, 317662 words/s, in_qsize 5, out_qsize 0\n",
      "2023-03-21 23:29:32,831 : INFO : EPOCH 6 - PROGRESS: at 53.24% examples, 318645 words/s, in_qsize 5, out_qsize 0\n",
      "2023-03-21 23:29:33,867 : INFO : EPOCH 6 - PROGRESS: at 55.02% examples, 319266 words/s, in_qsize 4, out_qsize 1\n",
      "2023-03-21 23:29:34,907 : INFO : EPOCH 6 - PROGRESS: at 56.93% examples, 320082 words/s, in_qsize 5, out_qsize 0\n",
      "2023-03-21 23:29:35,921 : INFO : EPOCH 6 - PROGRESS: at 58.67% examples, 320206 words/s, in_qsize 5, out_qsize 0\n",
      "2023-03-21 23:29:36,928 : INFO : EPOCH 6 - PROGRESS: at 60.39% examples, 319969 words/s, in_qsize 5, out_qsize 0\n",
      "2023-03-21 23:29:37,957 : INFO : EPOCH 6 - PROGRESS: at 62.21% examples, 320393 words/s, in_qsize 5, out_qsize 0\n",
      "2023-03-21 23:29:38,976 : INFO : EPOCH 6 - PROGRESS: at 64.07% examples, 321028 words/s, in_qsize 6, out_qsize 1\n",
      "2023-03-21 23:29:39,996 : INFO : EPOCH 6 - PROGRESS: at 65.98% examples, 321829 words/s, in_qsize 5, out_qsize 0\n",
      "2023-03-21 23:29:40,997 : INFO : EPOCH 6 - PROGRESS: at 67.87% examples, 322363 words/s, in_qsize 6, out_qsize 0\n",
      "2023-03-21 23:29:42,004 : INFO : EPOCH 6 - PROGRESS: at 69.59% examples, 322444 words/s, in_qsize 5, out_qsize 0\n",
      "2023-03-21 23:29:43,019 : INFO : EPOCH 6 - PROGRESS: at 71.55% examples, 323244 words/s, in_qsize 5, out_qsize 0\n",
      "2023-03-21 23:29:44,035 : INFO : EPOCH 6 - PROGRESS: at 73.43% examples, 323776 words/s, in_qsize 6, out_qsize 0\n",
      "2023-03-21 23:29:45,036 : INFO : EPOCH 6 - PROGRESS: at 74.99% examples, 323024 words/s, in_qsize 5, out_qsize 0\n",
      "2023-03-21 23:29:46,061 : INFO : EPOCH 6 - PROGRESS: at 76.79% examples, 322985 words/s, in_qsize 5, out_qsize 0\n",
      "2023-03-21 23:29:47,092 : INFO : EPOCH 6 - PROGRESS: at 78.75% examples, 323372 words/s, in_qsize 5, out_qsize 0\n",
      "2023-03-21 23:29:48,116 : INFO : EPOCH 6 - PROGRESS: at 80.73% examples, 323950 words/s, in_qsize 6, out_qsize 0\n",
      "2023-03-21 23:29:49,129 : INFO : EPOCH 6 - PROGRESS: at 82.37% examples, 323667 words/s, in_qsize 5, out_qsize 0\n",
      "2023-03-21 23:29:50,153 : INFO : EPOCH 6 - PROGRESS: at 84.31% examples, 324086 words/s, in_qsize 5, out_qsize 0\n",
      "2023-03-21 23:29:51,196 : INFO : EPOCH 6 - PROGRESS: at 86.22% examples, 324470 words/s, in_qsize 6, out_qsize 0\n",
      "2023-03-21 23:29:52,224 : INFO : EPOCH 6 - PROGRESS: at 88.11% examples, 324947 words/s, in_qsize 5, out_qsize 0\n",
      "2023-03-21 23:29:53,238 : INFO : EPOCH 6 - PROGRESS: at 89.98% examples, 325491 words/s, in_qsize 6, out_qsize 0\n",
      "2023-03-21 23:29:54,239 : INFO : EPOCH 6 - PROGRESS: at 91.79% examples, 325837 words/s, in_qsize 5, out_qsize 0\n",
      "2023-03-21 23:29:55,258 : INFO : EPOCH 6 - PROGRESS: at 93.75% examples, 326177 words/s, in_qsize 5, out_qsize 0\n",
      "2023-03-21 23:29:56,299 : INFO : EPOCH 6 - PROGRESS: at 95.68% examples, 326533 words/s, in_qsize 5, out_qsize 0\n",
      "2023-03-21 23:29:57,317 : INFO : EPOCH 6 - PROGRESS: at 97.44% examples, 326461 words/s, in_qsize 5, out_qsize 0\n",
      "2023-03-21 23:29:58,344 : INFO : EPOCH 6 - PROGRESS: at 99.26% examples, 326746 words/s, in_qsize 5, out_qsize 0\n",
      "2023-03-21 23:29:58,746 : INFO : EPOCH 6: training on 24693510 raw words (18754020 effective words) took 57.4s, 326844 effective words/s\n",
      "2023-03-21 23:29:59,776 : INFO : EPOCH 7 - PROGRESS: at 1.60% examples, 296614 words/s, in_qsize 5, out_qsize 0\n",
      "2023-03-21 23:30:00,782 : INFO : EPOCH 7 - PROGRESS: at 3.42% examples, 315542 words/s, in_qsize 5, out_qsize 0\n",
      "2023-03-21 23:30:01,790 : INFO : EPOCH 7 - PROGRESS: at 5.25% examples, 321203 words/s, in_qsize 5, out_qsize 0\n",
      "2023-03-21 23:30:02,804 : INFO : EPOCH 7 - PROGRESS: at 7.09% examples, 325513 words/s, in_qsize 5, out_qsize 0\n",
      "2023-03-21 23:30:03,849 : INFO : EPOCH 7 - PROGRESS: at 9.04% examples, 328938 words/s, in_qsize 5, out_qsize 0\n",
      "2023-03-21 23:30:04,852 : INFO : EPOCH 7 - PROGRESS: at 10.63% examples, 322738 words/s, in_qsize 5, out_qsize 0\n",
      "2023-03-21 23:30:05,876 : INFO : EPOCH 7 - PROGRESS: at 12.42% examples, 323568 words/s, in_qsize 6, out_qsize 0\n",
      "2023-03-21 23:30:06,886 : INFO : EPOCH 7 - PROGRESS: at 14.34% examples, 326616 words/s, in_qsize 5, out_qsize 0\n",
      "2023-03-21 23:30:07,903 : INFO : EPOCH 7 - PROGRESS: at 16.07% examples, 326088 words/s, in_qsize 5, out_qsize 0\n",
      "2023-03-21 23:30:08,953 : INFO : EPOCH 7 - PROGRESS: at 17.17% examples, 313012 words/s, in_qsize 5, out_qsize 0\n",
      "2023-03-21 23:30:10,003 : INFO : EPOCH 7 - PROGRESS: at 18.49% examples, 305561 words/s, in_qsize 5, out_qsize 0\n",
      "2023-03-21 23:30:11,020 : INFO : EPOCH 7 - PROGRESS: at 19.78% examples, 300252 words/s, in_qsize 5, out_qsize 0\n",
      "2023-03-21 23:30:12,028 : INFO : EPOCH 7 - PROGRESS: at 21.24% examples, 298304 words/s, in_qsize 5, out_qsize 0\n",
      "2023-03-21 23:30:13,058 : INFO : EPOCH 7 - PROGRESS: at 23.02% examples, 299719 words/s, in_qsize 5, out_qsize 0\n",
      "2023-03-21 23:30:14,068 : INFO : EPOCH 7 - PROGRESS: at 24.94% examples, 303443 words/s, in_qsize 5, out_qsize 0\n",
      "2023-03-21 23:30:15,083 : INFO : EPOCH 7 - PROGRESS: at 26.90% examples, 307403 words/s, in_qsize 5, out_qsize 0\n",
      "2023-03-21 23:30:16,097 : INFO : EPOCH 7 - PROGRESS: at 28.78% examples, 310059 words/s, in_qsize 5, out_qsize 0\n",
      "2023-03-21 23:30:17,126 : INFO : EPOCH 7 - PROGRESS: at 30.57% examples, 311433 words/s, in_qsize 5, out_qsize 0\n",
      "2023-03-21 23:30:18,149 : INFO : EPOCH 7 - PROGRESS: at 32.50% examples, 313117 words/s, in_qsize 5, out_qsize 0\n",
      "2023-03-21 23:30:19,170 : INFO : EPOCH 7 - PROGRESS: at 34.42% examples, 314340 words/s, in_qsize 5, out_qsize 0\n",
      "2023-03-21 23:30:20,194 : INFO : EPOCH 7 - PROGRESS: at 36.28% examples, 315670 words/s, in_qsize 6, out_qsize 0\n",
      "2023-03-21 23:30:21,226 : INFO : EPOCH 7 - PROGRESS: at 38.19% examples, 317519 words/s, in_qsize 6, out_qsize 0\n",
      "2023-03-21 23:30:22,228 : INFO : EPOCH 7 - PROGRESS: at 40.07% examples, 319009 words/s, in_qsize 5, out_qsize 0\n",
      "2023-03-21 23:30:23,231 : INFO : EPOCH 7 - PROGRESS: at 41.95% examples, 320321 words/s, in_qsize 5, out_qsize 0\n",
      "2023-03-21 23:30:24,267 : INFO : EPOCH 7 - PROGRESS: at 43.78% examples, 321066 words/s, in_qsize 5, out_qsize 0\n",
      "2023-03-21 23:30:25,275 : INFO : EPOCH 7 - PROGRESS: at 45.74% examples, 322656 words/s, in_qsize 5, out_qsize 0\n",
      "2023-03-21 23:30:26,287 : INFO : EPOCH 7 - PROGRESS: at 47.67% examples, 323514 words/s, in_qsize 5, out_qsize 0\n",
      "2023-03-21 23:30:27,288 : INFO : EPOCH 7 - PROGRESS: at 49.47% examples, 324208 words/s, in_qsize 5, out_qsize 0\n",
      "2023-03-21 23:30:28,293 : INFO : EPOCH 7 - PROGRESS: at 51.38% examples, 325572 words/s, in_qsize 5, out_qsize 0\n",
      "2023-03-21 23:30:29,310 : INFO : EPOCH 7 - PROGRESS: at 53.28% examples, 326474 words/s, in_qsize 5, out_qsize 0\n",
      "2023-03-21 23:30:30,310 : INFO : EPOCH 7 - PROGRESS: at 55.15% examples, 327217 words/s, in_qsize 5, out_qsize 0\n",
      "2023-03-21 23:30:31,324 : INFO : EPOCH 7 - PROGRESS: at 57.10% examples, 328500 words/s, in_qsize 5, out_qsize 0\n",
      "2023-03-21 23:30:32,327 : INFO : EPOCH 7 - PROGRESS: at 58.75% examples, 327816 words/s, in_qsize 5, out_qsize 0\n",
      "2023-03-21 23:30:33,328 : INFO : EPOCH 7 - PROGRESS: at 60.54% examples, 328198 words/s, in_qsize 6, out_qsize 1\n",
      "2023-03-21 23:30:34,354 : INFO : EPOCH 7 - PROGRESS: at 62.45% examples, 328736 words/s, in_qsize 4, out_qsize 1\n",
      "2023-03-21 23:30:35,365 : INFO : EPOCH 7 - PROGRESS: at 64.40% examples, 329668 words/s, in_qsize 5, out_qsize 0\n",
      "2023-03-21 23:30:36,370 : INFO : EPOCH 7 - PROGRESS: at 66.22% examples, 329997 words/s, in_qsize 5, out_qsize 0\n",
      "2023-03-21 23:30:37,385 : INFO : EPOCH 7 - PROGRESS: at 68.16% examples, 330446 words/s, in_qsize 5, out_qsize 0\n",
      "2023-03-21 23:30:38,413 : INFO : EPOCH 7 - PROGRESS: at 70.12% examples, 330943 words/s, in_qsize 6, out_qsize 0\n",
      "2023-03-21 23:30:39,418 : INFO : EPOCH 7 - PROGRESS: at 72.27% examples, 332689 words/s, in_qsize 5, out_qsize 0\n",
      "2023-03-21 23:30:40,439 : INFO : EPOCH 7 - PROGRESS: at 74.05% examples, 332955 words/s, in_qsize 5, out_qsize 0\n",
      "2023-03-21 23:30:41,444 : INFO : EPOCH 7 - PROGRESS: at 75.81% examples, 332828 words/s, in_qsize 5, out_qsize 0\n",
      "2023-03-21 23:30:42,453 : INFO : EPOCH 7 - PROGRESS: at 77.47% examples, 332325 words/s, in_qsize 5, out_qsize 0\n",
      "2023-03-21 23:30:43,463 : INFO : EPOCH 7 - PROGRESS: at 78.99% examples, 331194 words/s, in_qsize 6, out_qsize 0\n",
      "2023-03-21 23:30:44,469 : INFO : EPOCH 7 - PROGRESS: at 80.57% examples, 330443 words/s, in_qsize 5, out_qsize 0\n",
      "2023-03-21 23:30:45,480 : INFO : EPOCH 7 - PROGRESS: at 82.38% examples, 330608 words/s, in_qsize 5, out_qsize 0\n",
      "2023-03-21 23:30:46,495 : INFO : EPOCH 7 - PROGRESS: at 84.10% examples, 330491 words/s, in_qsize 6, out_qsize 0\n",
      "2023-03-21 23:30:47,499 : INFO : EPOCH 7 - PROGRESS: at 85.72% examples, 330271 words/s, in_qsize 6, out_qsize 0\n",
      "2023-03-21 23:30:48,529 : INFO : EPOCH 7 - PROGRESS: at 87.28% examples, 329280 words/s, in_qsize 5, out_qsize 0\n",
      "2023-03-21 23:30:49,536 : INFO : EPOCH 7 - PROGRESS: at 88.48% examples, 327031 words/s, in_qsize 5, out_qsize 0\n",
      "2023-03-21 23:30:50,543 : INFO : EPOCH 7 - PROGRESS: at 89.78% examples, 325290 words/s, in_qsize 5, out_qsize 0\n",
      "2023-03-21 23:30:51,551 : INFO : EPOCH 7 - PROGRESS: at 91.43% examples, 325013 words/s, in_qsize 5, out_qsize 0\n",
      "2023-03-21 23:30:52,553 : INFO : EPOCH 7 - PROGRESS: at 93.31% examples, 325492 words/s, in_qsize 5, out_qsize 0\n",
      "2023-03-21 23:30:53,554 : INFO : EPOCH 7 - PROGRESS: at 95.46% examples, 326787 words/s, in_qsize 5, out_qsize 0\n",
      "2023-03-21 23:30:54,554 : INFO : EPOCH 7 - PROGRESS: at 97.40% examples, 327353 words/s, in_qsize 5, out_qsize 0\n",
      "2023-03-21 23:30:55,555 : INFO : EPOCH 7 - PROGRESS: at 98.91% examples, 326585 words/s, in_qsize 5, out_qsize 0\n",
      "2023-03-21 23:30:56,273 : INFO : EPOCH 7: training on 24693510 raw words (18753100 effective words) took 57.5s, 326110 effective words/s\n",
      "2023-03-21 23:30:57,312 : INFO : EPOCH 8 - PROGRESS: at 0.99% examples, 184938 words/s, in_qsize 5, out_qsize 0\n",
      "2023-03-21 23:30:58,316 : INFO : EPOCH 8 - PROGRESS: at 2.48% examples, 233712 words/s, in_qsize 5, out_qsize 0\n",
      "2023-03-21 23:30:59,318 : INFO : EPOCH 8 - PROGRESS: at 3.91% examples, 243083 words/s, in_qsize 6, out_qsize 0\n",
      "2023-03-21 23:31:00,383 : INFO : EPOCH 8 - PROGRESS: at 5.47% examples, 252981 words/s, in_qsize 5, out_qsize 0\n",
      "2023-03-21 23:31:01,400 : INFO : EPOCH 8 - PROGRESS: at 7.01% examples, 256527 words/s, in_qsize 5, out_qsize 0\n",
      "2023-03-21 23:31:02,415 : INFO : EPOCH 8 - PROGRESS: at 8.74% examples, 267531 words/s, in_qsize 5, out_qsize 0\n",
      "2023-03-21 23:31:03,434 : INFO : EPOCH 8 - PROGRESS: at 10.45% examples, 275326 words/s, in_qsize 5, out_qsize 0\n",
      "2023-03-21 23:31:04,468 : INFO : EPOCH 8 - PROGRESS: at 12.55% examples, 288925 words/s, in_qsize 6, out_qsize 0\n",
      "2023-03-21 23:31:05,491 : INFO : EPOCH 8 - PROGRESS: at 14.79% examples, 303242 words/s, in_qsize 5, out_qsize 0\n",
      "2023-03-21 23:31:06,526 : INFO : EPOCH 8 - PROGRESS: at 17.11% examples, 315444 words/s, in_qsize 5, out_qsize 0\n",
      "2023-03-21 23:31:07,552 : INFO : EPOCH 8 - PROGRESS: at 18.93% examples, 317048 words/s, in_qsize 5, out_qsize 0\n",
      "2023-03-21 23:31:08,564 : INFO : EPOCH 8 - PROGRESS: at 20.75% examples, 318268 words/s, in_qsize 5, out_qsize 0\n",
      "2023-03-21 23:31:09,571 : INFO : EPOCH 8 - PROGRESS: at 22.69% examples, 320578 words/s, in_qsize 5, out_qsize 0\n",
      "2023-03-21 23:31:10,575 : INFO : EPOCH 8 - PROGRESS: at 24.55% examples, 322472 words/s, in_qsize 5, out_qsize 0\n",
      "2023-03-21 23:31:11,582 : INFO : EPOCH 8 - PROGRESS: at 26.44% examples, 324328 words/s, in_qsize 5, out_qsize 0\n",
      "2023-03-21 23:31:12,646 : INFO : EPOCH 8 - PROGRESS: at 28.29% examples, 325114 words/s, in_qsize 5, out_qsize 0\n",
      "2023-03-21 23:31:13,682 : INFO : EPOCH 8 - PROGRESS: at 30.18% examples, 326430 words/s, in_qsize 5, out_qsize 0\n",
      "2023-03-21 23:31:14,698 : INFO : EPOCH 8 - PROGRESS: at 31.73% examples, 324621 words/s, in_qsize 5, out_qsize 0\n",
      "2023-03-21 23:31:15,716 : INFO : EPOCH 8 - PROGRESS: at 33.11% examples, 320666 words/s, in_qsize 5, out_qsize 0\n",
      "2023-03-21 23:31:16,765 : INFO : EPOCH 8 - PROGRESS: at 34.36% examples, 315876 words/s, in_qsize 5, out_qsize 0\n",
      "2023-03-21 23:31:17,776 : INFO : EPOCH 8 - PROGRESS: at 35.95% examples, 314593 words/s, in_qsize 5, out_qsize 0\n",
      "2023-03-21 23:31:18,807 : INFO : EPOCH 8 - PROGRESS: at 37.47% examples, 312789 words/s, in_qsize 6, out_qsize 0\n",
      "2023-03-21 23:31:19,820 : INFO : EPOCH 8 - PROGRESS: at 39.03% examples, 311735 words/s, in_qsize 5, out_qsize 0\n",
      "2023-03-21 23:31:20,837 : INFO : EPOCH 8 - PROGRESS: at 40.76% examples, 311606 words/s, in_qsize 5, out_qsize 0\n",
      "2023-03-21 23:31:21,850 : INFO : EPOCH 8 - PROGRESS: at 42.57% examples, 312393 words/s, in_qsize 5, out_qsize 0\n",
      "2023-03-21 23:31:22,861 : INFO : EPOCH 8 - PROGRESS: at 44.26% examples, 312022 words/s, in_qsize 5, out_qsize 0\n",
      "2023-03-21 23:31:23,864 : INFO : EPOCH 8 - PROGRESS: at 45.70% examples, 310923 words/s, in_qsize 5, out_qsize 0\n",
      "2023-03-21 23:31:24,907 : INFO : EPOCH 8 - PROGRESS: at 47.16% examples, 309006 words/s, in_qsize 5, out_qsize 0\n",
      "2023-03-21 23:31:25,933 : INFO : EPOCH 8 - PROGRESS: at 49.00% examples, 309646 words/s, in_qsize 6, out_qsize 0\n",
      "2023-03-21 23:31:26,946 : INFO : EPOCH 8 - PROGRESS: at 50.88% examples, 310654 words/s, in_qsize 5, out_qsize 0\n",
      "2023-03-21 23:31:27,986 : INFO : EPOCH 8 - PROGRESS: at 52.78% examples, 311778 words/s, in_qsize 5, out_qsize 0\n",
      "2023-03-21 23:31:29,025 : INFO : EPOCH 8 - PROGRESS: at 54.73% examples, 312846 words/s, in_qsize 5, out_qsize 0\n",
      "2023-03-21 23:31:30,025 : INFO : EPOCH 8 - PROGRESS: at 56.39% examples, 312883 words/s, in_qsize 5, out_qsize 0\n",
      "2023-03-21 23:31:31,044 : INFO : EPOCH 8 - PROGRESS: at 58.21% examples, 313828 words/s, in_qsize 5, out_qsize 0\n",
      "2023-03-21 23:31:32,055 : INFO : EPOCH 8 - PROGRESS: at 60.19% examples, 315208 words/s, in_qsize 5, out_qsize 0\n",
      "2023-03-21 23:31:33,055 : INFO : EPOCH 8 - PROGRESS: at 62.05% examples, 316178 words/s, in_qsize 5, out_qsize 0\n",
      "2023-03-21 23:31:34,064 : INFO : EPOCH 8 - PROGRESS: at 63.96% examples, 317062 words/s, in_qsize 5, out_qsize 0\n",
      "2023-03-21 23:31:35,081 : INFO : EPOCH 8 - PROGRESS: at 65.83% examples, 317812 words/s, in_qsize 5, out_qsize 0\n",
      "2023-03-21 23:31:36,091 : INFO : EPOCH 8 - PROGRESS: at 67.65% examples, 318536 words/s, in_qsize 5, out_qsize 0\n",
      "2023-03-21 23:31:37,115 : INFO : EPOCH 8 - PROGRESS: at 69.52% examples, 319319 words/s, in_qsize 5, out_qsize 0\n",
      "2023-03-21 23:31:38,125 : INFO : EPOCH 8 - PROGRESS: at 71.38% examples, 320174 words/s, in_qsize 5, out_qsize 0\n",
      "2023-03-21 23:31:39,136 : INFO : EPOCH 8 - PROGRESS: at 73.22% examples, 320802 words/s, in_qsize 5, out_qsize 0\n",
      "2023-03-21 23:31:40,142 : INFO : EPOCH 8 - PROGRESS: at 75.05% examples, 321279 words/s, in_qsize 5, out_qsize 0\n",
      "2023-03-21 23:31:41,143 : INFO : EPOCH 8 - PROGRESS: at 77.02% examples, 322118 words/s, in_qsize 5, out_qsize 0\n",
      "2023-03-21 23:31:42,184 : INFO : EPOCH 8 - PROGRESS: at 78.92% examples, 322616 words/s, in_qsize 6, out_qsize 0\n",
      "2023-03-21 23:31:43,217 : INFO : EPOCH 8 - PROGRESS: at 80.82% examples, 323159 words/s, in_qsize 5, out_qsize 0\n",
      "2023-03-21 23:31:44,249 : INFO : EPOCH 8 - PROGRESS: at 82.78% examples, 323827 words/s, in_qsize 5, out_qsize 0\n",
      "2023-03-21 23:31:45,270 : INFO : EPOCH 8 - PROGRESS: at 84.78% examples, 324559 words/s, in_qsize 5, out_qsize 0\n",
      "2023-03-21 23:31:46,278 : INFO : EPOCH 8 - PROGRESS: at 86.72% examples, 325204 words/s, in_qsize 5, out_qsize 0\n",
      "2023-03-21 23:31:47,285 : INFO : EPOCH 8 - PROGRESS: at 88.66% examples, 325943 words/s, in_qsize 5, out_qsize 0\n",
      "2023-03-21 23:31:48,308 : INFO : EPOCH 8 - PROGRESS: at 90.61% examples, 326556 words/s, in_qsize 5, out_qsize 0\n",
      "2023-03-21 23:31:49,312 : INFO : EPOCH 8 - PROGRESS: at 92.49% examples, 326982 words/s, in_qsize 5, out_qsize 0\n",
      "2023-03-21 23:31:50,312 : INFO : EPOCH 8 - PROGRESS: at 94.36% examples, 327543 words/s, in_qsize 5, out_qsize 0\n",
      "2023-03-21 23:31:51,315 : INFO : EPOCH 8 - PROGRESS: at 96.16% examples, 327802 words/s, in_qsize 5, out_qsize 0\n",
      "2023-03-21 23:31:52,332 : INFO : EPOCH 8 - PROGRESS: at 97.86% examples, 327452 words/s, in_qsize 5, out_qsize 0\n",
      "2023-03-21 23:31:53,345 : INFO : EPOCH 8 - PROGRESS: at 99.64% examples, 327664 words/s, in_qsize 5, out_qsize 0\n",
      "2023-03-21 23:31:53,540 : INFO : EPOCH 8: training on 24693510 raw words (18753828 effective words) took 57.2s, 327656 effective words/s\n",
      "2023-03-21 23:31:54,568 : INFO : EPOCH 9 - PROGRESS: at 1.34% examples, 252637 words/s, in_qsize 6, out_qsize 0\n",
      "2023-03-21 23:31:55,597 : INFO : EPOCH 9 - PROGRESS: at 3.09% examples, 289786 words/s, in_qsize 5, out_qsize 0\n",
      "2023-03-21 23:31:56,615 : INFO : EPOCH 9 - PROGRESS: at 4.89% examples, 303434 words/s, in_qsize 6, out_qsize 0\n",
      "2023-03-21 23:31:57,621 : INFO : EPOCH 9 - PROGRESS: at 6.72% examples, 312908 words/s, in_qsize 5, out_qsize 0\n",
      "2023-03-21 23:31:58,622 : INFO : EPOCH 9 - PROGRESS: at 8.52% examples, 317561 words/s, in_qsize 5, out_qsize 0\n",
      "2023-03-21 23:31:59,664 : INFO : EPOCH 9 - PROGRESS: at 10.38% examples, 319566 words/s, in_qsize 5, out_qsize 0\n",
      "2023-03-21 23:32:00,691 : INFO : EPOCH 9 - PROGRESS: at 12.15% examples, 320579 words/s, in_qsize 5, out_qsize 0\n",
      "2023-03-21 23:32:01,696 : INFO : EPOCH 9 - PROGRESS: at 13.91% examples, 322022 words/s, in_qsize 5, out_qsize 0\n",
      "2023-03-21 23:32:02,702 : INFO : EPOCH 9 - PROGRESS: at 15.75% examples, 324280 words/s, in_qsize 5, out_qsize 0\n",
      "2023-03-21 23:32:03,749 : INFO : EPOCH 9 - PROGRESS: at 17.63% examples, 325335 words/s, in_qsize 5, out_qsize 0\n",
      "2023-03-21 23:32:04,782 : INFO : EPOCH 9 - PROGRESS: at 19.48% examples, 327392 words/s, in_qsize 5, out_qsize 0\n",
      "2023-03-21 23:32:05,790 : INFO : EPOCH 9 - PROGRESS: at 21.27% examples, 328610 words/s, in_qsize 6, out_qsize 0\n",
      "2023-03-21 23:32:06,798 : INFO : EPOCH 9 - PROGRESS: at 23.03% examples, 329326 words/s, in_qsize 5, out_qsize 0\n",
      "2023-03-21 23:32:07,800 : INFO : EPOCH 9 - PROGRESS: at 24.91% examples, 331384 words/s, in_qsize 5, out_qsize 0\n",
      "2023-03-21 23:32:08,800 : INFO : EPOCH 9 - PROGRESS: at 26.82% examples, 333157 words/s, in_qsize 5, out_qsize 0\n",
      "2023-03-21 23:32:09,812 : INFO : EPOCH 9 - PROGRESS: at 28.85% examples, 335364 words/s, in_qsize 5, out_qsize 0\n",
      "2023-03-21 23:32:10,869 : INFO : EPOCH 9 - PROGRESS: at 30.79% examples, 335564 words/s, in_qsize 5, out_qsize 0\n",
      "2023-03-21 23:32:11,876 : INFO : EPOCH 9 - PROGRESS: at 32.82% examples, 337550 words/s, in_qsize 5, out_qsize 0\n",
      "2023-03-21 23:32:12,884 : INFO : EPOCH 9 - PROGRESS: at 34.73% examples, 338508 words/s, in_qsize 5, out_qsize 0\n",
      "2023-03-21 23:32:13,896 : INFO : EPOCH 9 - PROGRESS: at 36.68% examples, 339703 words/s, in_qsize 5, out_qsize 0\n",
      "2023-03-21 23:32:14,922 : INFO : EPOCH 9 - PROGRESS: at 38.45% examples, 339075 words/s, in_qsize 5, out_qsize 0\n",
      "2023-03-21 23:32:15,961 : INFO : EPOCH 9 - PROGRESS: at 40.31% examples, 338316 words/s, in_qsize 5, out_qsize 0\n",
      "2023-03-21 23:32:16,980 : INFO : EPOCH 9 - PROGRESS: at 41.82% examples, 335725 words/s, in_qsize 6, out_qsize 0\n",
      "2023-03-21 23:32:17,989 : INFO : EPOCH 9 - PROGRESS: at 43.51% examples, 334705 words/s, in_qsize 5, out_qsize 0\n",
      "2023-03-21 23:32:18,991 : INFO : EPOCH 9 - PROGRESS: at 45.17% examples, 333861 words/s, in_qsize 6, out_qsize 0\n",
      "2023-03-21 23:32:20,019 : INFO : EPOCH 9 - PROGRESS: at 47.05% examples, 334625 words/s, in_qsize 5, out_qsize 0\n",
      "2023-03-21 23:32:21,027 : INFO : EPOCH 9 - PROGRESS: at 49.06% examples, 335444 words/s, in_qsize 5, out_qsize 0\n",
      "2023-03-21 23:32:22,045 : INFO : EPOCH 9 - PROGRESS: at 51.03% examples, 336256 words/s, in_qsize 5, out_qsize 0\n",
      "2023-03-21 23:32:23,045 : INFO : EPOCH 9 - PROGRESS: at 52.72% examples, 335553 words/s, in_qsize 5, out_qsize 0\n",
      "2023-03-21 23:32:24,089 : INFO : EPOCH 9 - PROGRESS: at 54.66% examples, 335847 words/s, in_qsize 5, out_qsize 0\n",
      "2023-03-21 23:32:25,098 : INFO : EPOCH 9 - PROGRESS: at 56.59% examples, 336741 words/s, in_qsize 4, out_qsize 1\n",
      "2023-03-21 23:32:26,103 : INFO : EPOCH 9 - PROGRESS: at 58.50% examples, 337362 words/s, in_qsize 5, out_qsize 0\n",
      "2023-03-21 23:32:27,117 : INFO : EPOCH 9 - PROGRESS: at 60.38% examples, 337818 words/s, in_qsize 5, out_qsize 0\n",
      "2023-03-21 23:32:28,159 : INFO : EPOCH 9 - PROGRESS: at 62.47% examples, 338674 words/s, in_qsize 5, out_qsize 0\n",
      "2023-03-21 23:32:29,169 : INFO : EPOCH 9 - PROGRESS: at 64.46% examples, 339984 words/s, in_qsize 5, out_qsize 0\n",
      "2023-03-21 23:32:30,169 : INFO : EPOCH 9 - PROGRESS: at 66.48% examples, 340839 words/s, in_qsize 5, out_qsize 0\n",
      "2023-03-21 23:32:31,175 : INFO : EPOCH 9 - PROGRESS: at 68.51% examples, 341821 words/s, in_qsize 5, out_qsize 0\n",
      "2023-03-21 23:32:32,178 : INFO : EPOCH 9 - PROGRESS: at 70.58% examples, 342832 words/s, in_qsize 5, out_qsize 0\n",
      "2023-03-21 23:32:33,215 : INFO : EPOCH 9 - PROGRESS: at 72.64% examples, 343421 words/s, in_qsize 5, out_qsize 0\n",
      "2023-03-21 23:32:34,225 : INFO : EPOCH 9 - PROGRESS: at 74.57% examples, 344071 words/s, in_qsize 5, out_qsize 0\n",
      "2023-03-21 23:32:35,265 : INFO : EPOCH 9 - PROGRESS: at 76.50% examples, 344275 words/s, in_qsize 5, out_qsize 0\n",
      "2023-03-21 23:32:36,299 : INFO : EPOCH 9 - PROGRESS: at 78.54% examples, 344853 words/s, in_qsize 5, out_qsize 0\n",
      "2023-03-21 23:32:37,306 : INFO : EPOCH 9 - PROGRESS: at 80.60% examples, 345630 words/s, in_qsize 5, out_qsize 0\n",
      "2023-03-21 23:32:38,310 : INFO : EPOCH 9 - PROGRESS: at 82.57% examples, 346217 words/s, in_qsize 5, out_qsize 0\n",
      "2023-03-21 23:32:39,326 : INFO : EPOCH 9 - PROGRESS: at 84.61% examples, 346683 words/s, in_qsize 5, out_qsize 0\n",
      "2023-03-21 23:32:40,330 : INFO : EPOCH 9 - PROGRESS: at 86.55% examples, 347055 words/s, in_qsize 5, out_qsize 0\n",
      "2023-03-21 23:32:41,367 : INFO : EPOCH 9 - PROGRESS: at 88.68% examples, 347649 words/s, in_qsize 5, out_qsize 0\n",
      "2023-03-21 23:32:42,371 : INFO : EPOCH 9 - PROGRESS: at 90.59% examples, 348029 words/s, in_qsize 5, out_qsize 0\n",
      "2023-03-21 23:32:43,377 : INFO : EPOCH 9 - PROGRESS: at 92.30% examples, 347455 words/s, in_qsize 5, out_qsize 0\n",
      "2023-03-21 23:32:44,380 : INFO : EPOCH 9 - PROGRESS: at 94.30% examples, 347946 words/s, in_qsize 5, out_qsize 0\n",
      "2023-03-21 23:32:45,389 : INFO : EPOCH 9 - PROGRESS: at 96.24% examples, 348361 words/s, in_qsize 5, out_qsize 0\n",
      "2023-03-21 23:32:46,406 : INFO : EPOCH 9 - PROGRESS: at 98.25% examples, 348740 words/s, in_qsize 5, out_qsize 0\n",
      "2023-03-21 23:32:47,260 : INFO : EPOCH 9: training on 24693510 raw words (18751625 effective words) took 53.7s, 349241 effective words/s\n",
      "2023-03-21 23:32:47,262 : INFO : Doc2Vec lifecycle event {'msg': 'training on 246935100 raw words (187539645 effective words) took 512.1s, 366215 effective words/s', 'datetime': '2023-03-21T23:32:47.261090', 'gensim': '4.3.1', 'python': '3.9.0 (tags/v3.9.0:9cf6752, Oct  5 2020, 15:34:40) [MSC v.1927 64 bit (AMD64)]', 'platform': 'Windows-10-10.0.19041-SP0', 'event': 'train'}\n",
      "2023-03-21 23:32:47,264 : INFO : Doc2Vec lifecycle event {'params': 'Doc2Vec<dbow,d50,n5,hs,mc5,s0.001,t3>', 'datetime': '2023-03-21T23:32:47.264081', 'gensim': '4.3.1', 'python': '3.9.0 (tags/v3.9.0:9cf6752, Oct  5 2020, 15:34:40) [MSC v.1927 64 bit (AMD64)]', 'platform': 'Windows-10-10.0.19041-SP0', 'event': 'created'}\n"
     ]
    }
   ],
   "source": [
    "permuter = PermuteSentences(unsup_sentences) \n",
    "model = Doc2Vec(permuter, dm=0, hs=1, vector_size=50)"
   ]
  },
  {
   "cell_type": "code",
   "execution_count": 14,
   "metadata": {
    "collapsed": true
   },
   "outputs": [
    {
     "ename": "AttributeError",
     "evalue": "'Doc2Vec' object has no attribute 'delete_temporary_training_data'",
     "output_type": "error",
     "traceback": [
      "\u001b[1;31m---------------------------------------------------------------------------\u001b[0m",
      "\u001b[1;31mAttributeError\u001b[0m                            Traceback (most recent call last)",
      "\u001b[1;32m<ipython-input-14-7b1674fe6273>\u001b[0m in \u001b[0;36m<module>\u001b[1;34m\u001b[0m\n\u001b[0;32m      1\u001b[0m \u001b[1;31m# done with training, free up some memory\u001b[0m\u001b[1;33m\u001b[0m\u001b[1;33m\u001b[0m\u001b[1;33m\u001b[0m\u001b[0m\n\u001b[1;32m----> 2\u001b[1;33m \u001b[0mmodel\u001b[0m\u001b[1;33m.\u001b[0m\u001b[0mdelete_temporary_training_data\u001b[0m\u001b[1;33m(\u001b[0m\u001b[0mkeep_inference\u001b[0m\u001b[1;33m=\u001b[0m\u001b[1;32mTrue\u001b[0m\u001b[1;33m)\u001b[0m\u001b[1;33m\u001b[0m\u001b[1;33m\u001b[0m\u001b[0m\n\u001b[0m",
      "\u001b[1;31mAttributeError\u001b[0m: 'Doc2Vec' object has no attribute 'delete_temporary_training_data'"
     ]
    }
   ],
   "source": [
    "# done with training, free up some memory\n",
    "model.delete_temporary_training_data(keep_inference=True)"
   ]
  },
  {
   "cell_type": "code",
   "execution_count": 15,
   "metadata": {},
   "outputs": [
    {
     "name": "stderr",
     "output_type": "stream",
     "text": [
      "2023-03-21 23:33:48,084 : INFO : Doc2Vec lifecycle event {'fname_or_handle': 'reviews.d2v', 'separately': 'None', 'sep_limit': 10485760, 'ignore': frozenset(), 'datetime': '2023-03-21T23:33:48.084180', 'gensim': '4.3.1', 'python': '3.9.0 (tags/v3.9.0:9cf6752, Oct  5 2020, 15:34:40) [MSC v.1927 64 bit (AMD64)]', 'platform': 'Windows-10-10.0.19041-SP0', 'event': 'saving'}\n",
      "2023-03-21 23:33:48,091 : INFO : not storing attribute cum_table\n",
      "2023-03-21 23:33:50,113 : INFO : saved reviews.d2v\n"
     ]
    }
   ],
   "source": [
    "model.save('reviews.d2v')\n",
    "# in other program, we could write: model = Doc2Vec.load('reviews.d2v')"
   ]
  },
  {
   "cell_type": "code",
   "execution_count": 16,
   "metadata": {},
   "outputs": [
    {
     "data": {
      "text/plain": [
       "array([ 0.15839541,  0.02213576,  0.26376584, -0.48066616, -0.03137077,\n",
       "       -0.25015157,  0.26324415, -0.13032252,  0.01211821,  0.24326684,\n",
       "       -0.16611272, -0.17989054, -0.33873653, -0.07376021,  0.62292314,\n",
       "        0.35614946, -0.16246454,  0.08911735,  0.01923273,  0.33431724,\n",
       "        0.44906926,  0.04037865,  0.06475811,  0.2848666 ,  0.32015496,\n",
       "        0.49359483, -0.31922275, -0.01975652,  0.5144004 , -0.14519018,\n",
       "       -0.20464548,  0.09204558,  0.28979242,  0.11151716, -0.26435006,\n",
       "        0.09226024,  0.5630968 ,  0.11117744,  0.6047081 ,  0.09140925,\n",
       "       -0.07361961,  0.1250164 , -0.3000361 , -0.15348944, -0.08545798,\n",
       "       -0.44060743, -0.05337591, -0.09558962,  0.1370779 , -0.0928385 ],\n",
       "      dtype=float32)"
      ]
     },
     "execution_count": 16,
     "metadata": {},
     "output_type": "execute_result"
    }
   ],
   "source": [
    "model.infer_vector(extract_words(\"This place is not worth your time, let alone Vegas.\"))"
   ]
  },
  {
   "cell_type": "code",
   "execution_count": 17,
   "metadata": {},
   "outputs": [
    {
     "data": {
      "text/plain": [
       "array([[0.39466345]], dtype=float32)"
      ]
     },
     "execution_count": 17,
     "metadata": {},
     "output_type": "execute_result"
    }
   ],
   "source": [
    "from sklearn.metrics.pairwise import cosine_similarity\n",
    "cosine_similarity(\n",
    "    [model.infer_vector(extract_words(\"This place is not worth your time, let alone Vegas.\"))],\n",
    "    [model.infer_vector(extract_words(\"Service sucks.\"))])"
   ]
  },
  {
   "cell_type": "code",
   "execution_count": 18,
   "metadata": {},
   "outputs": [
    {
     "data": {
      "text/plain": [
       "array([[0.21989854]], dtype=float32)"
      ]
     },
     "execution_count": 18,
     "metadata": {},
     "output_type": "execute_result"
    }
   ],
   "source": [
    "cosine_similarity(\n",
    "    [model.infer_vector(extract_words(\"Highly recommended.\"))],\n",
    "    [model.infer_vector(extract_words(\"Service sucks.\"))])"
   ]
  },
  {
   "cell_type": "code",
   "execution_count": 20,
   "metadata": {
    "collapsed": true
   },
   "outputs": [],
   "source": [
    "sentences = []\n",
    "sentvecs = []\n",
    "sentiments = []\n",
    "for fname in [\"yelp\", \"amazon_cells\", \"imdb\"]: \n",
    "    with open(\"sentiment labelled sentences/%s_labelled.txt\" % fname, encoding='UTF-8') as f:\n",
    "        for i, line in enumerate(f):\n",
    "            line_split = line.strip().split('\\t')\n",
    "            sentences.append(line_split[0])\n",
    "            words = extract_words(line_split[0])\n",
    "            sentvecs.append(model.infer_vector(words, epochs =10)) # create a vector for this document\n",
    "            sentiments.append(int(line_split[1]))\n",
    "            \n",
    "# shuffle sentences, sentvecs, sentiments together\n",
    "combined = list(zip(sentences, sentvecs, sentiments))\n",
    "random.shuffle(combined)\n",
    "sentences, sentvecs, sentiments = zip(*combined)"
   ]
  },
  {
   "cell_type": "code",
   "execution_count": 21,
   "metadata": {
    "collapsed": true
   },
   "outputs": [],
   "source": [
    "from sklearn.neighbors import KNeighborsClassifier\n",
    "from sklearn.ensemble import RandomForestClassifier\n",
    "from sklearn.model_selection import cross_val_score\n",
    "import numpy as np\n",
    "\n",
    "clf = KNeighborsClassifier(n_neighbors=9)\n",
    "clfrf = RandomForestClassifier()"
   ]
  },
  {
   "cell_type": "code",
   "execution_count": 22,
   "metadata": {},
   "outputs": [
    {
     "data": {
      "text/plain": [
       "(0.7886666666666666, 0.018147543451754924)"
      ]
     },
     "execution_count": 22,
     "metadata": {},
     "output_type": "execute_result"
    }
   ],
   "source": [
    "\n",
    "#here it takes only 0,6s to compute\n",
    "scores = cross_val_score(clf, sentvecs, sentiments, cv=5)\n",
    "np.mean(scores), np.std(scores)"
   ]
  },
  {
   "cell_type": "code",
   "execution_count": 23,
   "metadata": {},
   "outputs": [
    {
     "data": {
      "text/plain": [
       "(0.792, 0.014583095236151563)"
      ]
     },
     "execution_count": 23,
     "metadata": {},
     "output_type": "execute_result"
    }
   ],
   "source": [
    "#this one takes almost 15s\n",
    "\n",
    "scores = cross_val_score(clfrf, sentvecs, sentiments, cv=5)\n",
    "np.mean(scores), np.std(scores)"
   ]
  },
  {
   "cell_type": "code",
   "execution_count": 24,
   "metadata": {
    "collapsed": true
   },
   "outputs": [],
   "source": [
    "# bag-of-words comparison\n",
    "from sklearn.pipeline import make_pipeline\n",
    "from sklearn.feature_extraction.text import CountVectorizer, TfidfTransformer\n",
    "pipeline = make_pipeline(CountVectorizer(), TfidfTransformer(), RandomForestClassifier())"
   ]
  },
  {
   "cell_type": "code",
   "execution_count": 25,
   "metadata": {},
   "outputs": [
    {
     "data": {
      "text/plain": [
       "(0.7843333333333333, 0.00806914562460681)"
      ]
     },
     "execution_count": 25,
     "metadata": {},
     "output_type": "execute_result"
    }
   ],
   "source": [
    "scores = cross_val_score(pipeline, sentences, sentiments, cv=5)\n",
    "np.mean(scores), np.std(scores)"
   ]
  },
  {
   "cell_type": "code",
   "execution_count": null,
   "metadata": {
    "collapsed": true
   },
   "outputs": [],
   "source": []
  }
 ],
 "metadata": {
  "kernelspec": {
   "display_name": "Python 3",
   "language": "python",
   "name": "python3"
  },
  "language_info": {
   "codemirror_mode": {
    "name": "ipython",
    "version": 3
   },
   "file_extension": ".py",
   "mimetype": "text/x-python",
   "name": "python",
   "nbconvert_exporter": "python",
   "pygments_lexer": "ipython3",
   "version": "3.9.0"
  }
 },
 "nbformat": 4,
 "nbformat_minor": 2
}
